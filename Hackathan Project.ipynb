{
 "cells": [
  {
   "cell_type": "code",
   "execution_count": 1,
   "metadata": {},
   "outputs": [],
   "source": [
    "import pandas as pd\n",
    "import matplotlib.pyplot as plt\n",
    "import seaborn as sns\n",
    "import re\n",
    "import os"
   ]
  },
  {
   "cell_type": "code",
   "execution_count": 4,
   "metadata": {},
   "outputs": [],
   "source": [
    "DATA_DIR = 'data'\n",
    "TRAIN_FILEPATH = os.path.join(DATA_DIR, 'Datathon_train_data.csv')"
   ]
  },
  {
   "cell_type": "code",
   "execution_count": 5,
   "metadata": {},
   "outputs": [],
   "source": [
    "data_raw = pd.read_csv(TRAIN_FILEPATH)"
   ]
  },
  {
   "cell_type": "code",
   "execution_count": 6,
   "metadata": {},
   "outputs": [
    {
     "data": {
      "text/plain": [
       "(64181, 11)"
      ]
     },
     "execution_count": 6,
     "metadata": {},
     "output_type": "execute_result"
    }
   ],
   "source": [
    "data_raw.shape"
   ]
  },
  {
   "cell_type": "code",
   "execution_count": 7,
   "metadata": {},
   "outputs": [],
   "source": [
    "data_raw.columns = [column.lower().replace(' ', '_') for column in data_raw.columns]"
   ]
  },
  {
   "cell_type": "code",
   "execution_count": 11,
   "metadata": {},
   "outputs": [
    {
     "data": {
      "text/html": [
       "<div>\n",
       "<style scoped>\n",
       "    .dataframe tbody tr th:only-of-type {\n",
       "        vertical-align: middle;\n",
       "    }\n",
       "\n",
       "    .dataframe tbody tr th {\n",
       "        vertical-align: top;\n",
       "    }\n",
       "\n",
       "    .dataframe thead th {\n",
       "        text-align: right;\n",
       "    }\n",
       "</style>\n",
       "<table border=\"1\" class=\"dataframe\">\n",
       "  <thead>\n",
       "    <tr style=\"text-align: right;\">\n",
       "      <th></th>\n",
       "      <th>id</th>\n",
       "      <th>car_type</th>\n",
       "      <th>fuel_type</th>\n",
       "      <th>make</th>\n",
       "      <th>model</th>\n",
       "      <th>odometer_reading</th>\n",
       "      <th>year_of_registration_date</th>\n",
       "      <th>pav</th>\n",
       "      <th>total_repair_cost</th>\n",
       "      <th>highest_bid_price</th>\n",
       "      <th>copart_get</th>\n",
       "    </tr>\n",
       "  </thead>\n",
       "  <tbody>\n",
       "    <tr>\n",
       "      <th>26386</th>\n",
       "      <td>10555</td>\n",
       "      <td>Passenger_car</td>\n",
       "      <td>Diesel</td>\n",
       "      <td>Honda</td>\n",
       "      <td>accord</td>\n",
       "      <td>158890.0</td>\n",
       "      <td>2007.0</td>\n",
       "      <td>3950.0</td>\n",
       "      <td>2700.0</td>\n",
       "      <td>1710</td>\n",
       "      <td>0</td>\n",
       "    </tr>\n",
       "    <tr>\n",
       "      <th>28106</th>\n",
       "      <td>56026</td>\n",
       "      <td>Truck_transporter_bus</td>\n",
       "      <td>Diesel</td>\n",
       "      <td>Iveco</td>\n",
       "      <td>NaN</td>\n",
       "      <td>688622.0</td>\n",
       "      <td>2012.0</td>\n",
       "      <td>1.0</td>\n",
       "      <td>12845.0</td>\n",
       "      <td>6400</td>\n",
       "      <td>0</td>\n",
       "    </tr>\n",
       "    <tr>\n",
       "      <th>30825</th>\n",
       "      <td>56215</td>\n",
       "      <td>Other</td>\n",
       "      <td>Diesel</td>\n",
       "      <td>Audi</td>\n",
       "      <td>A6 Lim.</td>\n",
       "      <td>79482.0</td>\n",
       "      <td>2012.0</td>\n",
       "      <td>NaN</td>\n",
       "      <td>21263.0</td>\n",
       "      <td>9000</td>\n",
       "      <td>0</td>\n",
       "    </tr>\n",
       "    <tr>\n",
       "      <th>20156</th>\n",
       "      <td>17580</td>\n",
       "      <td>Passenger_car</td>\n",
       "      <td>Diesel</td>\n",
       "      <td>NaN</td>\n",
       "      <td>NaN</td>\n",
       "      <td>28707.0</td>\n",
       "      <td>1987.0</td>\n",
       "      <td>0.0</td>\n",
       "      <td>0.0</td>\n",
       "      <td>2000</td>\n",
       "      <td>0</td>\n",
       "    </tr>\n",
       "    <tr>\n",
       "      <th>49346</th>\n",
       "      <td>47702</td>\n",
       "      <td>Passenger_car</td>\n",
       "      <td>Gasoline</td>\n",
       "      <td>Ford</td>\n",
       "      <td>focus</td>\n",
       "      <td>177175.0</td>\n",
       "      <td>2011.0</td>\n",
       "      <td>7400.0</td>\n",
       "      <td>6899.0</td>\n",
       "      <td>3188</td>\n",
       "      <td>0</td>\n",
       "    </tr>\n",
       "    <tr>\n",
       "      <th>29156</th>\n",
       "      <td>48796</td>\n",
       "      <td>Passenger_car</td>\n",
       "      <td>Gasoline</td>\n",
       "      <td>Volkswagen</td>\n",
       "      <td>polo</td>\n",
       "      <td>126192.0</td>\n",
       "      <td>2011.0</td>\n",
       "      <td>6900.0</td>\n",
       "      <td>4867.0</td>\n",
       "      <td>4110</td>\n",
       "      <td>0</td>\n",
       "    </tr>\n",
       "    <tr>\n",
       "      <th>59538</th>\n",
       "      <td>69773</td>\n",
       "      <td>Passenger_car</td>\n",
       "      <td>Diesel</td>\n",
       "      <td>Volvo</td>\n",
       "      <td>C30</td>\n",
       "      <td>119859.0</td>\n",
       "      <td>2011.0</td>\n",
       "      <td>8800.0</td>\n",
       "      <td>5538.0</td>\n",
       "      <td>3300</td>\n",
       "      <td>0</td>\n",
       "    </tr>\n",
       "    <tr>\n",
       "      <th>44295</th>\n",
       "      <td>44524</td>\n",
       "      <td>Motorcycle</td>\n",
       "      <td>Gasoline</td>\n",
       "      <td>KTM</td>\n",
       "      <td>NaN</td>\n",
       "      <td>15000.0</td>\n",
       "      <td>2012.0</td>\n",
       "      <td>2600.0</td>\n",
       "      <td>10500.0</td>\n",
       "      <td>127</td>\n",
       "      <td>0</td>\n",
       "    </tr>\n",
       "    <tr>\n",
       "      <th>23110</th>\n",
       "      <td>62418</td>\n",
       "      <td>Passenger_car</td>\n",
       "      <td>Gasoline</td>\n",
       "      <td>Opel</td>\n",
       "      <td>Corsa</td>\n",
       "      <td>54882.0</td>\n",
       "      <td>2012.0</td>\n",
       "      <td>6500.0</td>\n",
       "      <td>2966.0</td>\n",
       "      <td>3122</td>\n",
       "      <td>0</td>\n",
       "    </tr>\n",
       "    <tr>\n",
       "      <th>2210</th>\n",
       "      <td>22821</td>\n",
       "      <td>Passenger_car</td>\n",
       "      <td>Diesel</td>\n",
       "      <td>Audi</td>\n",
       "      <td>a6</td>\n",
       "      <td>59472.0</td>\n",
       "      <td>2013.0</td>\n",
       "      <td>NaN</td>\n",
       "      <td>24052.0</td>\n",
       "      <td>14223</td>\n",
       "      <td>0</td>\n",
       "    </tr>\n",
       "  </tbody>\n",
       "</table>\n",
       "</div>"
      ],
      "text/plain": [
       "          id               car_type fuel_type        make    model  \\\n",
       "26386  10555          Passenger_car    Diesel       Honda   accord   \n",
       "28106  56026  Truck_transporter_bus    Diesel       Iveco      NaN   \n",
       "30825  56215                  Other    Diesel        Audi  A6 Lim.   \n",
       "20156  17580          Passenger_car    Diesel         NaN      NaN   \n",
       "49346  47702          Passenger_car  Gasoline        Ford    focus   \n",
       "29156  48796          Passenger_car  Gasoline  Volkswagen     polo   \n",
       "59538  69773          Passenger_car    Diesel       Volvo      C30   \n",
       "44295  44524             Motorcycle  Gasoline         KTM      NaN   \n",
       "23110  62418          Passenger_car  Gasoline        Opel    Corsa   \n",
       "2210   22821          Passenger_car    Diesel        Audi       a6   \n",
       "\n",
       "       odometer_reading  year_of_registration_date     pav  total_repair_cost  \\\n",
       "26386          158890.0                     2007.0  3950.0             2700.0   \n",
       "28106          688622.0                     2012.0     1.0            12845.0   \n",
       "30825           79482.0                     2012.0     NaN            21263.0   \n",
       "20156           28707.0                     1987.0     0.0                0.0   \n",
       "49346          177175.0                     2011.0  7400.0             6899.0   \n",
       "29156          126192.0                     2011.0  6900.0             4867.0   \n",
       "59538          119859.0                     2011.0  8800.0             5538.0   \n",
       "44295           15000.0                     2012.0  2600.0            10500.0   \n",
       "23110           54882.0                     2012.0  6500.0             2966.0   \n",
       "2210            59472.0                     2013.0     NaN            24052.0   \n",
       "\n",
       "       highest_bid_price  copart_get  \n",
       "26386               1710           0  \n",
       "28106               6400           0  \n",
       "30825               9000           0  \n",
       "20156               2000           0  \n",
       "49346               3188           0  \n",
       "29156               4110           0  \n",
       "59538               3300           0  \n",
       "44295                127           0  \n",
       "23110               3122           0  \n",
       "2210               14223           0  "
      ]
     },
     "execution_count": 11,
     "metadata": {},
     "output_type": "execute_result"
    }
   ],
   "source": [
    "data_raw.sample(10)"
   ]
  },
  {
   "cell_type": "code",
   "execution_count": 12,
   "metadata": {},
   "outputs": [
    {
     "data": {
      "text/plain": [
       "id                             int64\n",
       "car_type                      object\n",
       "fuel_type                     object\n",
       "make                          object\n",
       "model                         object\n",
       "odometer_reading             float64\n",
       "year_of_registration_date    float64\n",
       "pav                          float64\n",
       "total_repair_cost            float64\n",
       "highest_bid_price              int64\n",
       "copart_get                     int64\n",
       "dtype: object"
      ]
     },
     "execution_count": 12,
     "metadata": {},
     "output_type": "execute_result"
    }
   ],
   "source": [
    "data_raw.dtypes"
   ]
  },
  {
   "cell_type": "code",
   "execution_count": 13,
   "metadata": {},
   "outputs": [
    {
     "data": {
      "text/html": [
       "<div>\n",
       "<style scoped>\n",
       "    .dataframe tbody tr th:only-of-type {\n",
       "        vertical-align: middle;\n",
       "    }\n",
       "\n",
       "    .dataframe tbody tr th {\n",
       "        vertical-align: top;\n",
       "    }\n",
       "\n",
       "    .dataframe thead th {\n",
       "        text-align: right;\n",
       "    }\n",
       "</style>\n",
       "<table border=\"1\" class=\"dataframe\">\n",
       "  <thead>\n",
       "    <tr style=\"text-align: right;\">\n",
       "      <th></th>\n",
       "      <th>id</th>\n",
       "      <th>odometer_reading</th>\n",
       "      <th>year_of_registration_date</th>\n",
       "      <th>pav</th>\n",
       "      <th>total_repair_cost</th>\n",
       "      <th>highest_bid_price</th>\n",
       "      <th>copart_get</th>\n",
       "    </tr>\n",
       "  </thead>\n",
       "  <tbody>\n",
       "    <tr>\n",
       "      <th>count</th>\n",
       "      <td>64181.000000</td>\n",
       "      <td>6.320000e+04</td>\n",
       "      <td>63955.000000</td>\n",
       "      <td>5.889400e+04</td>\n",
       "      <td>62299.000000</td>\n",
       "      <td>64181.000000</td>\n",
       "      <td>64181.000000</td>\n",
       "    </tr>\n",
       "    <tr>\n",
       "      <th>mean</th>\n",
       "      <td>45923.967732</td>\n",
       "      <td>1.742280e+10</td>\n",
       "      <td>2008.338832</td>\n",
       "      <td>9.541848e+03</td>\n",
       "      <td>9151.546879</td>\n",
       "      <td>3591.864882</td>\n",
       "      <td>0.050108</td>\n",
       "    </tr>\n",
       "    <tr>\n",
       "      <th>std</th>\n",
       "      <td>26469.905566</td>\n",
       "      <td>3.997622e+12</td>\n",
       "      <td>8.934258</td>\n",
       "      <td>7.865586e+04</td>\n",
       "      <td>14295.423908</td>\n",
       "      <td>4918.553523</td>\n",
       "      <td>0.218170</td>\n",
       "    </tr>\n",
       "    <tr>\n",
       "      <th>min</th>\n",
       "      <td>1.000000</td>\n",
       "      <td>0.000000e+00</td>\n",
       "      <td>1096.000000</td>\n",
       "      <td>-1.080000e+04</td>\n",
       "      <td>0.000000</td>\n",
       "      <td>11.000000</td>\n",
       "      <td>0.000000</td>\n",
       "    </tr>\n",
       "    <tr>\n",
       "      <th>25%</th>\n",
       "      <td>23086.000000</td>\n",
       "      <td>6.766100e+04</td>\n",
       "      <td>2005.000000</td>\n",
       "      <td>2.900000e+03</td>\n",
       "      <td>3171.000000</td>\n",
       "      <td>751.000000</td>\n",
       "      <td>0.000000</td>\n",
       "    </tr>\n",
       "    <tr>\n",
       "      <th>50%</th>\n",
       "      <td>45920.000000</td>\n",
       "      <td>1.247240e+05</td>\n",
       "      <td>2009.000000</td>\n",
       "      <td>5.900000e+03</td>\n",
       "      <td>5667.000000</td>\n",
       "      <td>2221.000000</td>\n",
       "      <td>0.000000</td>\n",
       "    </tr>\n",
       "    <tr>\n",
       "      <th>75%</th>\n",
       "      <td>68940.000000</td>\n",
       "      <td>1.856438e+05</td>\n",
       "      <td>2013.000000</td>\n",
       "      <td>1.100000e+04</td>\n",
       "      <td>10295.000000</td>\n",
       "      <td>4650.000000</td>\n",
       "      <td>0.000000</td>\n",
       "    </tr>\n",
       "    <tr>\n",
       "      <th>max</th>\n",
       "      <td>91685.000000</td>\n",
       "      <td>1.000000e+15</td>\n",
       "      <td>3013.000000</td>\n",
       "      <td>1.880040e+07</td>\n",
       "      <td>914519.000000</td>\n",
       "      <td>170100.000000</td>\n",
       "      <td>1.000000</td>\n",
       "    </tr>\n",
       "  </tbody>\n",
       "</table>\n",
       "</div>"
      ],
      "text/plain": [
       "                 id  odometer_reading  year_of_registration_date  \\\n",
       "count  64181.000000      6.320000e+04               63955.000000   \n",
       "mean   45923.967732      1.742280e+10                2008.338832   \n",
       "std    26469.905566      3.997622e+12                   8.934258   \n",
       "min        1.000000      0.000000e+00                1096.000000   \n",
       "25%    23086.000000      6.766100e+04                2005.000000   \n",
       "50%    45920.000000      1.247240e+05                2009.000000   \n",
       "75%    68940.000000      1.856438e+05                2013.000000   \n",
       "max    91685.000000      1.000000e+15                3013.000000   \n",
       "\n",
       "                pav  total_repair_cost  highest_bid_price    copart_get  \n",
       "count  5.889400e+04       62299.000000       64181.000000  64181.000000  \n",
       "mean   9.541848e+03        9151.546879        3591.864882      0.050108  \n",
       "std    7.865586e+04       14295.423908        4918.553523      0.218170  \n",
       "min   -1.080000e+04           0.000000          11.000000      0.000000  \n",
       "25%    2.900000e+03        3171.000000         751.000000      0.000000  \n",
       "50%    5.900000e+03        5667.000000        2221.000000      0.000000  \n",
       "75%    1.100000e+04       10295.000000        4650.000000      0.000000  \n",
       "max    1.880040e+07      914519.000000      170100.000000      1.000000  "
      ]
     },
     "execution_count": 13,
     "metadata": {},
     "output_type": "execute_result"
    }
   ],
   "source": [
    "data_raw.describe()"
   ]
  },
  {
   "cell_type": "code",
   "execution_count": 14,
   "metadata": {},
   "outputs": [],
   "source": [
    "#sns.sample(10000).pairplot(data)"
   ]
  },
  {
   "cell_type": "code",
   "execution_count": 15,
   "metadata": {},
   "outputs": [],
   "source": [
    "#data_raw['odometer_reading'].hist()"
   ]
  },
  {
   "cell_type": "markdown",
   "metadata": {},
   "source": [
    "# Huge Odometer"
   ]
  },
  {
   "cell_type": "code",
   "execution_count": 16,
   "metadata": {},
   "outputs": [],
   "source": [
    "#data_raw.Make[data_raw.Make.isnull()] = 'kj'"
   ]
  },
  {
   "cell_type": "code",
   "execution_count": 17,
   "metadata": {},
   "outputs": [
    {
     "data": {
      "text/html": [
       "<div>\n",
       "<style scoped>\n",
       "    .dataframe tbody tr th:only-of-type {\n",
       "        vertical-align: middle;\n",
       "    }\n",
       "\n",
       "    .dataframe tbody tr th {\n",
       "        vertical-align: top;\n",
       "    }\n",
       "\n",
       "    .dataframe thead th {\n",
       "        text-align: right;\n",
       "    }\n",
       "</style>\n",
       "<table border=\"1\" class=\"dataframe\">\n",
       "  <thead>\n",
       "    <tr style=\"text-align: right;\">\n",
       "      <th></th>\n",
       "      <th>id</th>\n",
       "      <th>car_type</th>\n",
       "      <th>fuel_type</th>\n",
       "      <th>make</th>\n",
       "      <th>model</th>\n",
       "      <th>odometer_reading</th>\n",
       "      <th>year_of_registration_date</th>\n",
       "      <th>pav</th>\n",
       "      <th>total_repair_cost</th>\n",
       "      <th>highest_bid_price</th>\n",
       "      <th>copart_get</th>\n",
       "    </tr>\n",
       "  </thead>\n",
       "  <tbody>\n",
       "    <tr>\n",
       "      <th>26668</th>\n",
       "      <td>55338</td>\n",
       "      <td>Passenger_car</td>\n",
       "      <td>unknown</td>\n",
       "      <td>NaN</td>\n",
       "      <td>NaN</td>\n",
       "      <td>1.000000e+15</td>\n",
       "      <td>2003.0</td>\n",
       "      <td>7500.0</td>\n",
       "      <td>14000.0</td>\n",
       "      <td>1011</td>\n",
       "      <td>0</td>\n",
       "    </tr>\n",
       "    <tr>\n",
       "      <th>14416</th>\n",
       "      <td>57981</td>\n",
       "      <td>Other</td>\n",
       "      <td>unknown</td>\n",
       "      <td>NaN</td>\n",
       "      <td>NaN</td>\n",
       "      <td>1.000000e+14</td>\n",
       "      <td>2011.0</td>\n",
       "      <td>9460.0</td>\n",
       "      <td>9300.0</td>\n",
       "      <td>4501</td>\n",
       "      <td>1</td>\n",
       "    </tr>\n",
       "    <tr>\n",
       "      <th>55845</th>\n",
       "      <td>24085</td>\n",
       "      <td>Other</td>\n",
       "      <td>unknown</td>\n",
       "      <td>NaN</td>\n",
       "      <td>NaN</td>\n",
       "      <td>1.000000e+12</td>\n",
       "      <td>2007.0</td>\n",
       "      <td>8270.0</td>\n",
       "      <td>5502.0</td>\n",
       "      <td>3490</td>\n",
       "      <td>0</td>\n",
       "    </tr>\n",
       "    <tr>\n",
       "      <th>7848</th>\n",
       "      <td>34223</td>\n",
       "      <td>Other</td>\n",
       "      <td>unknown</td>\n",
       "      <td>NaN</td>\n",
       "      <td>NaN</td>\n",
       "      <td>1.000000e+11</td>\n",
       "      <td>2007.0</td>\n",
       "      <td>35700.0</td>\n",
       "      <td>16657.0</td>\n",
       "      <td>8890</td>\n",
       "      <td>0</td>\n",
       "    </tr>\n",
       "    <tr>\n",
       "      <th>5152</th>\n",
       "      <td>83757</td>\n",
       "      <td>Other</td>\n",
       "      <td>unknown</td>\n",
       "      <td>NaN</td>\n",
       "      <td>NaN</td>\n",
       "      <td>1.010101e+10</td>\n",
       "      <td>2017.0</td>\n",
       "      <td>41650.0</td>\n",
       "      <td>49100.0</td>\n",
       "      <td>11100</td>\n",
       "      <td>0</td>\n",
       "    </tr>\n",
       "    <tr>\n",
       "      <th>17632</th>\n",
       "      <td>54168</td>\n",
       "      <td>Other</td>\n",
       "      <td>unknown</td>\n",
       "      <td>NaN</td>\n",
       "      <td>NaN</td>\n",
       "      <td>1.111111e+09</td>\n",
       "      <td>2014.0</td>\n",
       "      <td>14000.0</td>\n",
       "      <td>30000.0</td>\n",
       "      <td>3850</td>\n",
       "      <td>0</td>\n",
       "    </tr>\n",
       "    <tr>\n",
       "      <th>21577</th>\n",
       "      <td>43986</td>\n",
       "      <td>Other</td>\n",
       "      <td>unknown</td>\n",
       "      <td>NaN</td>\n",
       "      <td>NaN</td>\n",
       "      <td>1.000000e+09</td>\n",
       "      <td>2016.0</td>\n",
       "      <td>17600.0</td>\n",
       "      <td>7442.0</td>\n",
       "      <td>8010</td>\n",
       "      <td>0</td>\n",
       "    </tr>\n",
       "    <tr>\n",
       "      <th>46469</th>\n",
       "      <td>17445</td>\n",
       "      <td>Other</td>\n",
       "      <td>unknown</td>\n",
       "      <td>NaN</td>\n",
       "      <td>NaN</td>\n",
       "      <td>1.000000e+08</td>\n",
       "      <td>2013.0</td>\n",
       "      <td>12971.0</td>\n",
       "      <td>13958.0</td>\n",
       "      <td>2000</td>\n",
       "      <td>0</td>\n",
       "    </tr>\n",
       "    <tr>\n",
       "      <th>48721</th>\n",
       "      <td>22059</td>\n",
       "      <td>Other</td>\n",
       "      <td>NaN</td>\n",
       "      <td>NaN</td>\n",
       "      <td>NaN</td>\n",
       "      <td>1.000000e+08</td>\n",
       "      <td>1996.0</td>\n",
       "      <td>3750.0</td>\n",
       "      <td>3912.0</td>\n",
       "      <td>802</td>\n",
       "      <td>0</td>\n",
       "    </tr>\n",
       "    <tr>\n",
       "      <th>18330</th>\n",
       "      <td>7258</td>\n",
       "      <td>Passenger_car</td>\n",
       "      <td>Gasoline</td>\n",
       "      <td>Opel</td>\n",
       "      <td>corsa</td>\n",
       "      <td>9.793945e+07</td>\n",
       "      <td>2000.0</td>\n",
       "      <td>1900.0</td>\n",
       "      <td>6345.0</td>\n",
       "      <td>50</td>\n",
       "      <td>0</td>\n",
       "    </tr>\n",
       "    <tr>\n",
       "      <th>1969</th>\n",
       "      <td>55716</td>\n",
       "      <td>Passenger_car</td>\n",
       "      <td>unknown</td>\n",
       "      <td>NaN</td>\n",
       "      <td>NaN</td>\n",
       "      <td>1.010101e+07</td>\n",
       "      <td>1991.0</td>\n",
       "      <td>4800.0</td>\n",
       "      <td>7600.0</td>\n",
       "      <td>299</td>\n",
       "      <td>1</td>\n",
       "    </tr>\n",
       "    <tr>\n",
       "      <th>15963</th>\n",
       "      <td>35933</td>\n",
       "      <td>Other</td>\n",
       "      <td>unknown</td>\n",
       "      <td>NaN</td>\n",
       "      <td>NaN</td>\n",
       "      <td>9.999999e+06</td>\n",
       "      <td>2010.0</td>\n",
       "      <td>19040.0</td>\n",
       "      <td>19005.0</td>\n",
       "      <td>4055</td>\n",
       "      <td>0</td>\n",
       "    </tr>\n",
       "    <tr>\n",
       "      <th>26240</th>\n",
       "      <td>46851</td>\n",
       "      <td>Other</td>\n",
       "      <td>unknown</td>\n",
       "      <td>NaN</td>\n",
       "      <td>NaN</td>\n",
       "      <td>9.999999e+06</td>\n",
       "      <td>2008.0</td>\n",
       "      <td>5200.0</td>\n",
       "      <td>8500.0</td>\n",
       "      <td>300</td>\n",
       "      <td>0</td>\n",
       "    </tr>\n",
       "    <tr>\n",
       "      <th>56714</th>\n",
       "      <td>37884</td>\n",
       "      <td>Other</td>\n",
       "      <td>unknown</td>\n",
       "      <td>NaN</td>\n",
       "      <td>NaN</td>\n",
       "      <td>9.999999e+06</td>\n",
       "      <td>2017.0</td>\n",
       "      <td>60095.0</td>\n",
       "      <td>40687.0</td>\n",
       "      <td>9800</td>\n",
       "      <td>0</td>\n",
       "    </tr>\n",
       "    <tr>\n",
       "      <th>62738</th>\n",
       "      <td>54181</td>\n",
       "      <td>Other</td>\n",
       "      <td>unknown</td>\n",
       "      <td>NaN</td>\n",
       "      <td>NaN</td>\n",
       "      <td>9.999996e+06</td>\n",
       "      <td>1982.0</td>\n",
       "      <td>4879.0</td>\n",
       "      <td>6500.0</td>\n",
       "      <td>1367</td>\n",
       "      <td>0</td>\n",
       "    </tr>\n",
       "    <tr>\n",
       "      <th>57825</th>\n",
       "      <td>61785</td>\n",
       "      <td>Truck_transporter_bus</td>\n",
       "      <td>Diesel</td>\n",
       "      <td>Mercedes-Benz</td>\n",
       "      <td>Sprinter</td>\n",
       "      <td>4.631645e+06</td>\n",
       "      <td>2002.0</td>\n",
       "      <td>4500.0</td>\n",
       "      <td>4398.0</td>\n",
       "      <td>2100</td>\n",
       "      <td>0</td>\n",
       "    </tr>\n",
       "    <tr>\n",
       "      <th>33022</th>\n",
       "      <td>84265</td>\n",
       "      <td>Passenger_car</td>\n",
       "      <td>Diesel</td>\n",
       "      <td>MERCEDES</td>\n",
       "      <td>E 200</td>\n",
       "      <td>3.298263e+06</td>\n",
       "      <td>2004.0</td>\n",
       "      <td>4650.0</td>\n",
       "      <td>3031.0</td>\n",
       "      <td>120</td>\n",
       "      <td>0</td>\n",
       "    </tr>\n",
       "    <tr>\n",
       "      <th>63694</th>\n",
       "      <td>29530</td>\n",
       "      <td>Passenger_car</td>\n",
       "      <td>Gasoline</td>\n",
       "      <td>Volkswagen</td>\n",
       "      <td>golf</td>\n",
       "      <td>2.755335e+06</td>\n",
       "      <td>1993.0</td>\n",
       "      <td>1500.0</td>\n",
       "      <td>10084.0</td>\n",
       "      <td>50</td>\n",
       "      <td>0</td>\n",
       "    </tr>\n",
       "    <tr>\n",
       "      <th>5928</th>\n",
       "      <td>74054</td>\n",
       "      <td>Passenger_car</td>\n",
       "      <td>Gasoline</td>\n",
       "      <td>Honda</td>\n",
       "      <td>Civic</td>\n",
       "      <td>2.120212e+06</td>\n",
       "      <td>1999.0</td>\n",
       "      <td>1500.0</td>\n",
       "      <td>8403.0</td>\n",
       "      <td>50</td>\n",
       "      <td>0</td>\n",
       "    </tr>\n",
       "    <tr>\n",
       "      <th>60142</th>\n",
       "      <td>80945</td>\n",
       "      <td>Passenger_car</td>\n",
       "      <td>Gasoline</td>\n",
       "      <td>Opel</td>\n",
       "      <td>Corsa</td>\n",
       "      <td>2.099934e+06</td>\n",
       "      <td>2001.0</td>\n",
       "      <td>800.0</td>\n",
       "      <td>1296.0</td>\n",
       "      <td>82</td>\n",
       "      <td>0</td>\n",
       "    </tr>\n",
       "    <tr>\n",
       "      <th>10056</th>\n",
       "      <td>72777</td>\n",
       "      <td>Passenger_car</td>\n",
       "      <td>Gasoline</td>\n",
       "      <td>Renault</td>\n",
       "      <td>Clio</td>\n",
       "      <td>2.014245e+06</td>\n",
       "      <td>2003.0</td>\n",
       "      <td>1750.0</td>\n",
       "      <td>3169.0</td>\n",
       "      <td>110</td>\n",
       "      <td>0</td>\n",
       "    </tr>\n",
       "    <tr>\n",
       "      <th>57865</th>\n",
       "      <td>66938</td>\n",
       "      <td>Passenger_car</td>\n",
       "      <td>Gasoline</td>\n",
       "      <td>Toyota</td>\n",
       "      <td>Corolla</td>\n",
       "      <td>1.920250e+06</td>\n",
       "      <td>2001.0</td>\n",
       "      <td>NaN</td>\n",
       "      <td>2227.0</td>\n",
       "      <td>666</td>\n",
       "      <td>0</td>\n",
       "    </tr>\n",
       "    <tr>\n",
       "      <th>41317</th>\n",
       "      <td>88416</td>\n",
       "      <td>Passenger_car</td>\n",
       "      <td>Gasoline</td>\n",
       "      <td>Hyundai</td>\n",
       "      <td>Getz</td>\n",
       "      <td>1.907528e+06</td>\n",
       "      <td>2007.0</td>\n",
       "      <td>1900.0</td>\n",
       "      <td>3683.0</td>\n",
       "      <td>200</td>\n",
       "      <td>0</td>\n",
       "    </tr>\n",
       "    <tr>\n",
       "      <th>3501</th>\n",
       "      <td>11623</td>\n",
       "      <td>Truck_transporter_bus</td>\n",
       "      <td>Diesel</td>\n",
       "      <td>NaN</td>\n",
       "      <td>NaN</td>\n",
       "      <td>1.894853e+06</td>\n",
       "      <td>2002.0</td>\n",
       "      <td>8925.0</td>\n",
       "      <td>12500.0</td>\n",
       "      <td>1500</td>\n",
       "      <td>0</td>\n",
       "    </tr>\n",
       "    <tr>\n",
       "      <th>961</th>\n",
       "      <td>37762</td>\n",
       "      <td>Passenger_car</td>\n",
       "      <td>Gasoline</td>\n",
       "      <td>Skoda</td>\n",
       "      <td>NaN</td>\n",
       "      <td>1.785850e+06</td>\n",
       "      <td>2008.0</td>\n",
       "      <td>4450.0</td>\n",
       "      <td>4589.0</td>\n",
       "      <td>1577</td>\n",
       "      <td>0</td>\n",
       "    </tr>\n",
       "    <tr>\n",
       "      <th>8711</th>\n",
       "      <td>86706</td>\n",
       "      <td>Passenger_car</td>\n",
       "      <td>Gasoline</td>\n",
       "      <td>Peugeot</td>\n",
       "      <td>PEUGEOT 206</td>\n",
       "      <td>1.539889e+06</td>\n",
       "      <td>2004.0</td>\n",
       "      <td>690.0</td>\n",
       "      <td>848.0</td>\n",
       "      <td>333</td>\n",
       "      <td>0</td>\n",
       "    </tr>\n",
       "    <tr>\n",
       "      <th>4341</th>\n",
       "      <td>36673</td>\n",
       "      <td>Truck_transporter_bus</td>\n",
       "      <td>Diesel</td>\n",
       "      <td>NaN</td>\n",
       "      <td>NaN</td>\n",
       "      <td>1.534121e+06</td>\n",
       "      <td>2006.0</td>\n",
       "      <td>17850.0</td>\n",
       "      <td>10157.0</td>\n",
       "      <td>6222</td>\n",
       "      <td>0</td>\n",
       "    </tr>\n",
       "    <tr>\n",
       "      <th>42531</th>\n",
       "      <td>69061</td>\n",
       "      <td>Truck_transporter_bus</td>\n",
       "      <td>Diesel</td>\n",
       "      <td>Daimler</td>\n",
       "      <td>Other</td>\n",
       "      <td>1.525560e+06</td>\n",
       "      <td>2012.0</td>\n",
       "      <td>10115.0</td>\n",
       "      <td>40000.0</td>\n",
       "      <td>1131</td>\n",
       "      <td>0</td>\n",
       "    </tr>\n",
       "    <tr>\n",
       "      <th>50751</th>\n",
       "      <td>89616</td>\n",
       "      <td>Truck_transporter_bus</td>\n",
       "      <td>Diesel</td>\n",
       "      <td>Volvo</td>\n",
       "      <td>Other</td>\n",
       "      <td>1.505141e+06</td>\n",
       "      <td>2007.0</td>\n",
       "      <td>11900.0</td>\n",
       "      <td>10698.0</td>\n",
       "      <td>2222</td>\n",
       "      <td>0</td>\n",
       "    </tr>\n",
       "    <tr>\n",
       "      <th>28601</th>\n",
       "      <td>84980</td>\n",
       "      <td>Truck_transporter_bus</td>\n",
       "      <td>Diesel</td>\n",
       "      <td>NaN</td>\n",
       "      <td>NaN</td>\n",
       "      <td>1.440919e+06</td>\n",
       "      <td>2005.0</td>\n",
       "      <td>0.0</td>\n",
       "      <td>100000.0</td>\n",
       "      <td>5001</td>\n",
       "      <td>0</td>\n",
       "    </tr>\n",
       "  </tbody>\n",
       "</table>\n",
       "</div>"
      ],
      "text/plain": [
       "          id               car_type fuel_type           make        model  \\\n",
       "26668  55338          Passenger_car   unknown            NaN          NaN   \n",
       "14416  57981                  Other   unknown            NaN          NaN   \n",
       "55845  24085                  Other   unknown            NaN          NaN   \n",
       "7848   34223                  Other   unknown            NaN          NaN   \n",
       "5152   83757                  Other   unknown            NaN          NaN   \n",
       "17632  54168                  Other   unknown            NaN          NaN   \n",
       "21577  43986                  Other   unknown            NaN          NaN   \n",
       "46469  17445                  Other   unknown            NaN          NaN   \n",
       "48721  22059                  Other       NaN            NaN          NaN   \n",
       "18330   7258          Passenger_car  Gasoline           Opel        corsa   \n",
       "1969   55716          Passenger_car   unknown            NaN          NaN   \n",
       "15963  35933                  Other   unknown            NaN          NaN   \n",
       "26240  46851                  Other   unknown            NaN          NaN   \n",
       "56714  37884                  Other   unknown            NaN          NaN   \n",
       "62738  54181                  Other   unknown            NaN          NaN   \n",
       "57825  61785  Truck_transporter_bus    Diesel  Mercedes-Benz     Sprinter   \n",
       "33022  84265          Passenger_car    Diesel       MERCEDES        E 200   \n",
       "63694  29530          Passenger_car  Gasoline     Volkswagen         golf   \n",
       "5928   74054          Passenger_car  Gasoline          Honda        Civic   \n",
       "60142  80945          Passenger_car  Gasoline           Opel        Corsa   \n",
       "10056  72777          Passenger_car  Gasoline        Renault         Clio   \n",
       "57865  66938          Passenger_car  Gasoline         Toyota      Corolla   \n",
       "41317  88416          Passenger_car  Gasoline        Hyundai         Getz   \n",
       "3501   11623  Truck_transporter_bus    Diesel            NaN          NaN   \n",
       "961    37762          Passenger_car  Gasoline          Skoda          NaN   \n",
       "8711   86706          Passenger_car  Gasoline        Peugeot  PEUGEOT 206   \n",
       "4341   36673  Truck_transporter_bus    Diesel            NaN          NaN   \n",
       "42531  69061  Truck_transporter_bus    Diesel        Daimler        Other   \n",
       "50751  89616  Truck_transporter_bus    Diesel          Volvo        Other   \n",
       "28601  84980  Truck_transporter_bus    Diesel            NaN          NaN   \n",
       "\n",
       "       odometer_reading  year_of_registration_date      pav  \\\n",
       "26668      1.000000e+15                     2003.0   7500.0   \n",
       "14416      1.000000e+14                     2011.0   9460.0   \n",
       "55845      1.000000e+12                     2007.0   8270.0   \n",
       "7848       1.000000e+11                     2007.0  35700.0   \n",
       "5152       1.010101e+10                     2017.0  41650.0   \n",
       "17632      1.111111e+09                     2014.0  14000.0   \n",
       "21577      1.000000e+09                     2016.0  17600.0   \n",
       "46469      1.000000e+08                     2013.0  12971.0   \n",
       "48721      1.000000e+08                     1996.0   3750.0   \n",
       "18330      9.793945e+07                     2000.0   1900.0   \n",
       "1969       1.010101e+07                     1991.0   4800.0   \n",
       "15963      9.999999e+06                     2010.0  19040.0   \n",
       "26240      9.999999e+06                     2008.0   5200.0   \n",
       "56714      9.999999e+06                     2017.0  60095.0   \n",
       "62738      9.999996e+06                     1982.0   4879.0   \n",
       "57825      4.631645e+06                     2002.0   4500.0   \n",
       "33022      3.298263e+06                     2004.0   4650.0   \n",
       "63694      2.755335e+06                     1993.0   1500.0   \n",
       "5928       2.120212e+06                     1999.0   1500.0   \n",
       "60142      2.099934e+06                     2001.0    800.0   \n",
       "10056      2.014245e+06                     2003.0   1750.0   \n",
       "57865      1.920250e+06                     2001.0      NaN   \n",
       "41317      1.907528e+06                     2007.0   1900.0   \n",
       "3501       1.894853e+06                     2002.0   8925.0   \n",
       "961        1.785850e+06                     2008.0   4450.0   \n",
       "8711       1.539889e+06                     2004.0    690.0   \n",
       "4341       1.534121e+06                     2006.0  17850.0   \n",
       "42531      1.525560e+06                     2012.0  10115.0   \n",
       "50751      1.505141e+06                     2007.0  11900.0   \n",
       "28601      1.440919e+06                     2005.0      0.0   \n",
       "\n",
       "       total_repair_cost  highest_bid_price  copart_get  \n",
       "26668            14000.0               1011           0  \n",
       "14416             9300.0               4501           1  \n",
       "55845             5502.0               3490           0  \n",
       "7848             16657.0               8890           0  \n",
       "5152             49100.0              11100           0  \n",
       "17632            30000.0               3850           0  \n",
       "21577             7442.0               8010           0  \n",
       "46469            13958.0               2000           0  \n",
       "48721             3912.0                802           0  \n",
       "18330             6345.0                 50           0  \n",
       "1969              7600.0                299           1  \n",
       "15963            19005.0               4055           0  \n",
       "26240             8500.0                300           0  \n",
       "56714            40687.0               9800           0  \n",
       "62738             6500.0               1367           0  \n",
       "57825             4398.0               2100           0  \n",
       "33022             3031.0                120           0  \n",
       "63694            10084.0                 50           0  \n",
       "5928              8403.0                 50           0  \n",
       "60142             1296.0                 82           0  \n",
       "10056             3169.0                110           0  \n",
       "57865             2227.0                666           0  \n",
       "41317             3683.0                200           0  \n",
       "3501             12500.0               1500           0  \n",
       "961               4589.0               1577           0  \n",
       "8711               848.0                333           0  \n",
       "4341             10157.0               6222           0  \n",
       "42531            40000.0               1131           0  \n",
       "50751            10698.0               2222           0  \n",
       "28601           100000.0               5001           0  "
      ]
     },
     "execution_count": 17,
     "metadata": {},
     "output_type": "execute_result"
    }
   ],
   "source": [
    "data_raw.sort_values('odometer_reading', ascending=False).head(30)"
   ]
  },
  {
   "cell_type": "markdown",
   "metadata": {},
   "source": [
    "# Count of car types"
   ]
  },
  {
   "cell_type": "code",
   "execution_count": 18,
   "metadata": {
    "scrolled": true
   },
   "outputs": [],
   "source": [
    "car_type_counts = data_raw[['car_type']].groupby(['car_type']).apply(pd.Series.count)"
   ]
  },
  {
   "cell_type": "code",
   "execution_count": 19,
   "metadata": {},
   "outputs": [
    {
     "name": "stdout",
     "output_type": "stream",
     "text": [
      "\n"
     ]
    },
    {
     "data": {
      "image/png": "[encoded data removed]",
      "text/plain": [
       "<matplotlib.figure.Figure at 0x7f9a3a6c55f8>"
      ]
     },
     "metadata": {},
     "output_type": "display_data"
    }
   ],
   "source": [
    "plt.pie(car_type_counts, labels=car_type_counts.index)\n",
    "plt.title('car_type')\n",
    "print('') # print to avoid the output from chart"
   ]
  },
  {
   "cell_type": "code",
   "execution_count": 20,
   "metadata": {},
   "outputs": [
    {
     "data": {
      "text/html": [
       "<div>\n",
       "<style scoped>\n",
       "    .dataframe tbody tr th:only-of-type {\n",
       "        vertical-align: middle;\n",
       "    }\n",
       "\n",
       "    .dataframe tbody tr th {\n",
       "        vertical-align: top;\n",
       "    }\n",
       "\n",
       "    .dataframe thead th {\n",
       "        text-align: right;\n",
       "    }\n",
       "</style>\n",
       "<table border=\"1\" class=\"dataframe\">\n",
       "  <thead>\n",
       "    <tr style=\"text-align: right;\">\n",
       "      <th></th>\n",
       "      <th>car_type</th>\n",
       "      <th>odometer_reading</th>\n",
       "    </tr>\n",
       "  </thead>\n",
       "  <tbody>\n",
       "    <tr>\n",
       "      <th>0</th>\n",
       "      <td>Motorcycle</td>\n",
       "      <td>15897.0</td>\n",
       "    </tr>\n",
       "    <tr>\n",
       "      <th>1</th>\n",
       "      <td>Other</td>\n",
       "      <td>93314.5</td>\n",
       "    </tr>\n",
       "    <tr>\n",
       "      <th>2</th>\n",
       "      <td>Passenger_car</td>\n",
       "      <td>127314.0</td>\n",
       "    </tr>\n",
       "    <tr>\n",
       "      <th>3</th>\n",
       "      <td>Trailer_semitrailer</td>\n",
       "      <td>0.0</td>\n",
       "    </tr>\n",
       "    <tr>\n",
       "      <th>4</th>\n",
       "      <td>Truck_transporter_bus</td>\n",
       "      <td>161893.0</td>\n",
       "    </tr>\n",
       "  </tbody>\n",
       "</table>\n",
       "</div>"
      ],
      "text/plain": [
       "                car_type  odometer_reading\n",
       "0             Motorcycle           15897.0\n",
       "1                  Other           93314.5\n",
       "2          Passenger_car          127314.0\n",
       "3    Trailer_semitrailer               0.0\n",
       "4  Truck_transporter_bus          161893.0"
      ]
     },
     "execution_count": 20,
     "metadata": {},
     "output_type": "execute_result"
    }
   ],
   "source": [
    "median_odometer_by_car_type = data_raw[['odometer_reading', 'car_type']].groupby(['car_type']).median().reset_index()\n",
    "median_odometer_by_car_type"
   ]
  },
  {
   "cell_type": "code",
   "execution_count": 21,
   "metadata": {},
   "outputs": [
    {
     "data": {
      "text/plain": [
       "Text(0.5,1,'Odometer Reading by Car Type')"
      ]
     },
     "execution_count": 21,
     "metadata": {},
     "output_type": "execute_result"
    },
    {
     "data": {
      "image/png": "[encoded data removed]",
      "text/plain": [
       "<matplotlib.figure.Figure at 0x7f9a3a751eb8>"
      ]
     },
     "metadata": {},
     "output_type": "display_data"
    }
   ],
   "source": [
    "sns.barplot(x='odometer_reading', y='car_type', data=median_odometer_by_car_type) \\\n",
    "    .set_title('Odometer Reading by Car Type')"
   ]
  },
  {
   "cell_type": "markdown",
   "metadata": {},
   "source": [
    "# Missing Values"
   ]
  },
  {
   "cell_type": "code",
   "execution_count": 22,
   "metadata": {},
   "outputs": [
    {
     "data": {
      "text/plain": [
       "id                               0\n",
       "car_type                         0\n",
       "fuel_type                     1199\n",
       "make                          2623\n",
       "model                        25784\n",
       "odometer_reading               981\n",
       "year_of_registration_date      226\n",
       "pav                           5287\n",
       "total_repair_cost             1882\n",
       "highest_bid_price                0\n",
       "copart_get                       0\n",
       "dtype: int64"
      ]
     },
     "execution_count": 22,
     "metadata": {},
     "output_type": "execute_result"
    }
   ],
   "source": [
    "data_raw.isnull().sum()"
   ]
  },
  {
   "cell_type": "code",
   "execution_count": 23,
   "metadata": {},
   "outputs": [
    {
     "name": "stdout",
     "output_type": "stream",
     "text": [
      "all models are null when make is null\n"
     ]
    }
   ],
   "source": [
    "null_make = data_raw[data_raw['make'].isnull()]\n",
    "model_when_null_make = null_make[null_make['model'].notnull()]\n",
    "print('all models are null when make is null')"
   ]
  },
  {
   "cell_type": "markdown",
   "metadata": {},
   "source": [
    "# Clean Data"
   ]
  },
  {
   "cell_type": "code",
   "execution_count": 24,
   "metadata": {},
   "outputs": [],
   "source": [
    "data = data_raw.copy()"
   ]
  },
  {
   "cell_type": "markdown",
   "metadata": {},
   "source": [
    "## Cleanup outliers on odometer"
   ]
  },
  {
   "cell_type": "code",
   "execution_count": 25,
   "metadata": {},
   "outputs": [
    {
     "data": {
      "text/plain": [
       "9"
      ]
     },
     "execution_count": 25,
     "metadata": {},
     "output_type": "execute_result"
    }
   ],
   "source": [
    "odometer_readings_greater_than_one_hundred_thousand = data_raw[data_raw['odometer_reading'] >= (100000000-1)]\n",
    "len(odometer_readings_greater_than_one_hundred_thousand)"
   ]
  },
  {
   "cell_type": "code",
   "execution_count": 26,
   "metadata": {},
   "outputs": [
    {
     "data": {
      "text/html": [
       "<div>\n",
       "<style scoped>\n",
       "    .dataframe tbody tr th:only-of-type {\n",
       "        vertical-align: middle;\n",
       "    }\n",
       "\n",
       "    .dataframe tbody tr th {\n",
       "        vertical-align: top;\n",
       "    }\n",
       "\n",
       "    .dataframe thead th {\n",
       "        text-align: right;\n",
       "    }\n",
       "</style>\n",
       "<table border=\"1\" class=\"dataframe\">\n",
       "  <thead>\n",
       "    <tr style=\"text-align: right;\">\n",
       "      <th></th>\n",
       "      <th>car_type</th>\n",
       "      <th>odometer_reading</th>\n",
       "    </tr>\n",
       "  </thead>\n",
       "  <tbody>\n",
       "    <tr>\n",
       "      <th>0</th>\n",
       "      <td>Motorcycle</td>\n",
       "      <td>15897.0</td>\n",
       "    </tr>\n",
       "    <tr>\n",
       "      <th>1</th>\n",
       "      <td>Other</td>\n",
       "      <td>93314.5</td>\n",
       "    </tr>\n",
       "    <tr>\n",
       "      <th>2</th>\n",
       "      <td>Passenger_car</td>\n",
       "      <td>127314.0</td>\n",
       "    </tr>\n",
       "    <tr>\n",
       "      <th>3</th>\n",
       "      <td>Trailer_semitrailer</td>\n",
       "      <td>0.0</td>\n",
       "    </tr>\n",
       "    <tr>\n",
       "      <th>4</th>\n",
       "      <td>Truck_transporter_bus</td>\n",
       "      <td>161893.0</td>\n",
       "    </tr>\n",
       "  </tbody>\n",
       "</table>\n",
       "</div>"
      ],
      "text/plain": [
       "                car_type  odometer_reading\n",
       "0             Motorcycle           15897.0\n",
       "1                  Other           93314.5\n",
       "2          Passenger_car          127314.0\n",
       "3    Trailer_semitrailer               0.0\n",
       "4  Truck_transporter_bus          161893.0"
      ]
     },
     "execution_count": 26,
     "metadata": {},
     "output_type": "execute_result"
    }
   ],
   "source": [
    "median_odometer_by_car_type"
   ]
  },
  {
   "cell_type": "markdown",
   "metadata": {},
   "source": [
    "### Drop Odomoter outliers (greater than one hundred thousand)"
   ]
  },
  {
   "cell_type": "code",
   "execution_count": 27,
   "metadata": {},
   "outputs": [
    {
     "data": {
      "text/plain": [
       "(64172, 11)"
      ]
     },
     "execution_count": 27,
     "metadata": {},
     "output_type": "execute_result"
    }
   ],
   "source": [
    "data = data.drop(odometer_readings_greater_than_one_hundred_thousand.index)\n",
    "data.shape"
   ]
  },
  {
   "cell_type": "markdown",
   "metadata": {},
   "source": [
    "### Impute other Odometer outliers (greater than one million)"
   ]
  },
  {
   "cell_type": "code",
   "execution_count": 28,
   "metadata": {
    "scrolled": true
   },
   "outputs": [
    {
     "data": {
      "text/plain": [
       "73"
      ]
     },
     "execution_count": 28,
     "metadata": {},
     "output_type": "execute_result"
    }
   ],
   "source": [
    "odometer_readings_greater_than_one_million = data[data['odometer_reading'] >= (1000000-1)]\n",
    "len(odometer_readings_greater_than_one_million)"
   ]
  },
  {
   "cell_type": "code",
   "execution_count": 29,
   "metadata": {},
   "outputs": [
    {
     "data": {
      "text/plain": [
       "548"
      ]
     },
     "execution_count": 29,
     "metadata": {},
     "output_type": "execute_result"
    }
   ],
   "source": [
    "odometer_readings_at_zero = data[data.odometer_reading == 0]\n",
    "len(odometer_readings_at_zero)"
   ]
  },
  {
   "cell_type": "code",
   "execution_count": 30,
   "metadata": {},
   "outputs": [
    {
     "data": {
      "text/plain": [
       "981"
      ]
     },
     "execution_count": 30,
     "metadata": {},
     "output_type": "execute_result"
    }
   ],
   "source": [
    "odometer_readings_at_null = data[data.odometer_reading.isnull()]\n",
    "len(odometer_readings_at_null)"
   ]
  },
  {
   "cell_type": "code",
   "execution_count": 31,
   "metadata": {},
   "outputs": [
    {
     "name": "stdout",
     "output_type": "stream",
     "text": [
      "1602\n"
     ]
    }
   ],
   "source": [
    "weird_odometers = pd.concat([\n",
    "    odometer_readings_at_zero,\n",
    "    odometer_readings_greater_than_one_million,\n",
    "    odometer_readings_at_null,\n",
    "])\n",
    "print(len(weird_odometers))"
   ]
  },
  {
   "cell_type": "code",
   "execution_count": 32,
   "metadata": {
    "scrolled": true
   },
   "outputs": [
    {
     "name": "stderr",
     "output_type": "stream",
     "text": [
      "/anaconda/envs/py35/lib/python3.5/site-packages/ipykernel/__main__.py:6: FutureWarning: set_value is deprecated and will be removed in a future release. Please use .at[] or .iat[] accessors instead\n"
     ]
    }
   ],
   "source": [
    "# TODO: right now we are imputing based on car_type, we can go deeper and look at make and/or model too\n",
    "for i in weird_odometers.index:\n",
    "    car = weird_odometers.loc[i]\n",
    "    median_value = median_odometer_by_car_type \\\n",
    "        [median_odometer_by_car_type['car_type'] == car.car_type].odometer_reading\n",
    "    #car.odometer_reading = median_value.values[0]\n",
    "    data.set_value(i, 'odometer_reading', median_value)"
   ]
  },
  {
   "cell_type": "code",
   "execution_count": 33,
   "metadata": {},
   "outputs": [
    {
     "data": {
      "text/plain": [
       "0"
      ]
     },
     "execution_count": 33,
     "metadata": {},
     "output_type": "execute_result"
    }
   ],
   "source": [
    "# We should now have no massive odometer readings\n",
    "len(data[data['odometer_reading'] >= (1000000-1)])"
   ]
  },
  {
   "cell_type": "code",
   "execution_count": 34,
   "metadata": {
    "scrolled": true
   },
   "outputs": [
    {
     "data": {
      "text/html": [
       "<div>\n",
       "<style scoped>\n",
       "    .dataframe tbody tr th:only-of-type {\n",
       "        vertical-align: middle;\n",
       "    }\n",
       "\n",
       "    .dataframe tbody tr th {\n",
       "        vertical-align: top;\n",
       "    }\n",
       "\n",
       "    .dataframe thead th {\n",
       "        text-align: right;\n",
       "    }\n",
       "</style>\n",
       "<table border=\"1\" class=\"dataframe\">\n",
       "  <thead>\n",
       "    <tr style=\"text-align: right;\">\n",
       "      <th></th>\n",
       "      <th>id</th>\n",
       "      <th>car_type</th>\n",
       "      <th>fuel_type</th>\n",
       "      <th>make</th>\n",
       "      <th>model</th>\n",
       "      <th>odometer_reading</th>\n",
       "      <th>year_of_registration_date</th>\n",
       "      <th>pav</th>\n",
       "      <th>total_repair_cost</th>\n",
       "      <th>highest_bid_price</th>\n",
       "      <th>copart_get</th>\n",
       "    </tr>\n",
       "  </thead>\n",
       "  <tbody>\n",
       "    <tr>\n",
       "      <th>5686</th>\n",
       "      <td>59054</td>\n",
       "      <td>Trailer_semitrailer</td>\n",
       "      <td>unknown</td>\n",
       "      <td>NaN</td>\n",
       "      <td>NaN</td>\n",
       "      <td>659389.0</td>\n",
       "      <td>2013.0</td>\n",
       "      <td>31892.0</td>\n",
       "      <td>20047.0</td>\n",
       "      <td>14120</td>\n",
       "      <td>0</td>\n",
       "    </tr>\n",
       "    <tr>\n",
       "      <th>15278</th>\n",
       "      <td>19909</td>\n",
       "      <td>Trailer_semitrailer</td>\n",
       "      <td>unknown</td>\n",
       "      <td>NaN</td>\n",
       "      <td>NaN</td>\n",
       "      <td>157181.0</td>\n",
       "      <td>2016.0</td>\n",
       "      <td>23800.0</td>\n",
       "      <td>19412.0</td>\n",
       "      <td>7000</td>\n",
       "      <td>0</td>\n",
       "    </tr>\n",
       "    <tr>\n",
       "      <th>21803</th>\n",
       "      <td>57928</td>\n",
       "      <td>Trailer_semitrailer</td>\n",
       "      <td>unknown</td>\n",
       "      <td>NaN</td>\n",
       "      <td>NaN</td>\n",
       "      <td>55555.0</td>\n",
       "      <td>2011.0</td>\n",
       "      <td>0.0</td>\n",
       "      <td>33333.0</td>\n",
       "      <td>265</td>\n",
       "      <td>0</td>\n",
       "    </tr>\n",
       "    <tr>\n",
       "      <th>21942</th>\n",
       "      <td>63997</td>\n",
       "      <td>Trailer_semitrailer</td>\n",
       "      <td>Gasoline</td>\n",
       "      <td>Daf</td>\n",
       "      <td>Other</td>\n",
       "      <td>238187.0</td>\n",
       "      <td>2017.0</td>\n",
       "      <td>77350.0</td>\n",
       "      <td>96674.0</td>\n",
       "      <td>10001</td>\n",
       "      <td>0</td>\n",
       "    </tr>\n",
       "    <tr>\n",
       "      <th>22381</th>\n",
       "      <td>54796</td>\n",
       "      <td>Trailer_semitrailer</td>\n",
       "      <td>unknown</td>\n",
       "      <td>NaN</td>\n",
       "      <td>NaN</td>\n",
       "      <td>301114.0</td>\n",
       "      <td>2015.0</td>\n",
       "      <td>74970.0</td>\n",
       "      <td>41957.0</td>\n",
       "      <td>26537</td>\n",
       "      <td>0</td>\n",
       "    </tr>\n",
       "    <tr>\n",
       "      <th>28318</th>\n",
       "      <td>49929</td>\n",
       "      <td>Trailer_semitrailer</td>\n",
       "      <td>unknown</td>\n",
       "      <td>NaN</td>\n",
       "      <td>NaN</td>\n",
       "      <td>1000.0</td>\n",
       "      <td>2016.0</td>\n",
       "      <td>750.0</td>\n",
       "      <td>2120.0</td>\n",
       "      <td>130</td>\n",
       "      <td>0</td>\n",
       "    </tr>\n",
       "    <tr>\n",
       "      <th>35589</th>\n",
       "      <td>61086</td>\n",
       "      <td>Trailer_semitrailer</td>\n",
       "      <td>unknown</td>\n",
       "      <td>Other</td>\n",
       "      <td>Other</td>\n",
       "      <td>796.0</td>\n",
       "      <td>2009.0</td>\n",
       "      <td>9300.0</td>\n",
       "      <td>8734.0</td>\n",
       "      <td>1200</td>\n",
       "      <td>0</td>\n",
       "    </tr>\n",
       "    <tr>\n",
       "      <th>48665</th>\n",
       "      <td>34231</td>\n",
       "      <td>Trailer_semitrailer</td>\n",
       "      <td>unknown</td>\n",
       "      <td>NaN</td>\n",
       "      <td>NaN</td>\n",
       "      <td>2500.0</td>\n",
       "      <td>2009.0</td>\n",
       "      <td>450.0</td>\n",
       "      <td>368.0</td>\n",
       "      <td>70</td>\n",
       "      <td>0</td>\n",
       "    </tr>\n",
       "  </tbody>\n",
       "</table>\n",
       "</div>"
      ],
      "text/plain": [
       "          id             car_type fuel_type   make  model  odometer_reading  \\\n",
       "5686   59054  Trailer_semitrailer   unknown    NaN    NaN          659389.0   \n",
       "15278  19909  Trailer_semitrailer   unknown    NaN    NaN          157181.0   \n",
       "21803  57928  Trailer_semitrailer   unknown    NaN    NaN           55555.0   \n",
       "21942  63997  Trailer_semitrailer  Gasoline    Daf  Other          238187.0   \n",
       "22381  54796  Trailer_semitrailer   unknown    NaN    NaN          301114.0   \n",
       "28318  49929  Trailer_semitrailer   unknown    NaN    NaN            1000.0   \n",
       "35589  61086  Trailer_semitrailer   unknown  Other  Other             796.0   \n",
       "48665  34231  Trailer_semitrailer   unknown    NaN    NaN            2500.0   \n",
       "\n",
       "       year_of_registration_date      pav  total_repair_cost  \\\n",
       "5686                      2013.0  31892.0            20047.0   \n",
       "15278                     2016.0  23800.0            19412.0   \n",
       "21803                     2011.0      0.0            33333.0   \n",
       "21942                     2017.0  77350.0            96674.0   \n",
       "22381                     2015.0  74970.0            41957.0   \n",
       "28318                     2016.0    750.0             2120.0   \n",
       "35589                     2009.0   9300.0             8734.0   \n",
       "48665                     2009.0    450.0              368.0   \n",
       "\n",
       "       highest_bid_price  copart_get  \n",
       "5686               14120           0  \n",
       "15278               7000           0  \n",
       "21803                265           0  \n",
       "21942              10001           0  \n",
       "22381              26537           0  \n",
       "28318                130           0  \n",
       "35589               1200           0  \n",
       "48665                 70           0  "
      ]
     },
     "execution_count": 34,
     "metadata": {},
     "output_type": "execute_result"
    }
   ],
   "source": [
    "# Trailers that actually have an odometer reading (pretty weird)\n",
    "data.query(\"odometer_reading != 0 and car_type == 'Trailer_semitrailer'\")"
   ]
  },
  {
   "cell_type": "markdown",
   "metadata": {},
   "source": [
    "# Fix Makes"
   ]
  },
  {
   "cell_type": "code",
   "execution_count": 35,
   "metadata": {},
   "outputs": [
    {
     "data": {
      "text/plain": [
       "127"
      ]
     },
     "execution_count": 35,
     "metadata": {},
     "output_type": "execute_result"
    }
   ],
   "source": [
    "len(data.make.unique())"
   ]
  },
  {
   "cell_type": "code",
   "execution_count": 36,
   "metadata": {},
   "outputs": [],
   "source": [
    "def fixString(myFix):\n",
    "    if (not pd.isna(myFix)):\n",
    "        return myFix.lower().strip()\n",
    "fixedStrings = data[['make', 'model']].applymap(fixString)"
   ]
  },
  {
   "cell_type": "code",
   "execution_count": 37,
   "metadata": {},
   "outputs": [],
   "source": [
    "mb = 'mercedes benz'\n",
    "hd = 'harley-davidson'\n",
    "pg = 'peugeot'\n",
    "lr = 'land rover'\n",
    "makeReplacementDict = {\n",
    "    'mercedes-benz / maybach' : mb,\n",
    "    'mercedes-benz'           : mb,\n",
    "    'merceds benz'            : mb,\n",
    "    'mercedes -benz'          : mb,\n",
    "    'mercedes'                : mb,\n",
    "    'merceded benz'           : mb, \n",
    "    'd mercedes-benz'         : mb,\n",
    "    'mercedes benz'           : mb,\n",
    "    \n",
    "    'harley-david'    : hd,\n",
    "    'harley davidson' : hd,\n",
    "    'harley-davidson' : hd,\n",
    "    \n",
    "    'fiat / lancia' : 'fiat',\n",
    "    \n",
    "    'ford (eu)' : 'ford',\n",
    "    \n",
    "    'daimler'      : 'daimlerchrysler',\n",
    "    'daimler-benz' : 'daimlerchrysler',\n",
    "    \n",
    "    'alfa' : 'alfa romeo',\n",
    "    \n",
    "    'chrysler / jeep' : 'jeep',\n",
    "    \n",
    "    'opel automobile' : 'opel',\n",
    "    \n",
    "    'peugeot'   : pg,\n",
    "    'peugot'    : pg,\n",
    "    \n",
    "    'piaggio (gilera/vespa)' : 'piaggio',\n",
    "    \n",
    "    'rover'                    : lr,\n",
    "    'land rover'               : lr,\n",
    "    'mg / rover / mini (blmc)' : lr,\n",
    "    \n",
    "    'mini (bmw)' : 'mini',\n",
    "    \n",
    "    'kia motors' : 'kia',\n",
    "    \n",
    "    'ssang' : 'ssangyong',\n",
    "}\n",
    "fixedStrings.make.replace( to_replace = makeReplacementDict, inplace = True )\n"
   ]
  },
  {
   "cell_type": "code",
   "execution_count": 38,
   "metadata": {},
   "outputs": [],
   "source": [
    "data['make'] = fixedStrings.make"
   ]
  },
  {
   "cell_type": "code",
   "execution_count": 39,
   "metadata": {},
   "outputs": [
    {
     "data": {
      "text/plain": [
       "103"
      ]
     },
     "execution_count": 39,
     "metadata": {},
     "output_type": "execute_result"
    }
   ],
   "source": [
    "len(data.make.unique())"
   ]
  },
  {
   "cell_type": "markdown",
   "metadata": {},
   "source": [
    "# Fix Models"
   ]
  },
  {
   "cell_type": "code",
   "execution_count": 40,
   "metadata": {},
   "outputs": [
    {
     "data": {
      "text/plain": [
       "417"
      ]
     },
     "execution_count": 40,
     "metadata": {},
     "output_type": "execute_result"
    }
   ],
   "source": [
    "# Check how many models just show up once\n",
    "len(data.model.value_counts()[data.model.value_counts() == 1])"
   ]
  },
  {
   "cell_type": "code",
   "execution_count": 41,
   "metadata": {},
   "outputs": [
    {
     "data": {
      "text/plain": [
       "1523"
      ]
     },
     "execution_count": 41,
     "metadata": {},
     "output_type": "execute_result"
    }
   ],
   "source": [
    "# Check how many unique models exist\n",
    "len(data.model.value_counts())"
   ]
  },
  {
   "cell_type": "code",
   "execution_count": 42,
   "metadata": {},
   "outputs": [],
   "source": [
    "# Set all models to lower case\n",
    "data.model = data.model.apply(lambda model: '' if model is None else (str(model)).lower())"
   ]
  },
  {
   "cell_type": "code",
   "execution_count": 43,
   "metadata": {},
   "outputs": [
    {
     "data": {
      "text/plain": [
       "309"
      ]
     },
     "execution_count": 43,
     "metadata": {},
     "output_type": "execute_result"
    }
   ],
   "source": [
    "len(data.model.value_counts()[data.model.value_counts() == 1])"
   ]
  },
  {
   "cell_type": "code",
   "execution_count": 44,
   "metadata": {},
   "outputs": [
    {
     "data": {
      "text/plain": [
       "1159"
      ]
     },
     "execution_count": 44,
     "metadata": {},
     "output_type": "execute_result"
    }
   ],
   "source": [
    "len(data.model.value_counts())"
   ]
  },
  {
   "cell_type": "code",
   "execution_count": 45,
   "metadata": {},
   "outputs": [
    {
     "data": {
      "text/plain": [
       "<matplotlib.axes._subplots.AxesSubplot at 0x7f9a2f4c98d0>"
      ]
     },
     "execution_count": 45,
     "metadata": {},
     "output_type": "execute_result"
    },
    {
     "data": {
      "image/png": "[encoded data removed]",
      "text/plain": [
       "<matplotlib.figure.Figure at 0x7f9a3a4aff28>"
      ]
     },
     "metadata": {},
     "output_type": "display_data"
    }
   ],
   "source": [
    "data.model.value_counts().hist(bins=20)"
   ]
  },
  {
   "cell_type": "code",
   "execution_count": 46,
   "metadata": {},
   "outputs": [],
   "source": [
    "model_names_to_replace = {\n",
    "    '-': ' ',\n",
    "    '\\.': '',\n",
    "    \"''\": '',\n",
    "    r'lim$': 'limited',\n",
    "    r'limited$': '', # todo, this might need to be in another column\n",
    "    'touring$': '', # todo, this might need to be in another column\n",
    "    r'\\s+': ' ',\n",
    "    r'\\+$': '',\n",
    "    'klasse': 'class',\n",
    "    '3er': '3rd',\n",
    "    '4er': '4th',\n",
    "    'p t ': 'pt ',\n",
    "    'bmw': '',\n",
    "    'vw': '',\n",
    "    'mercedez': '',\n",
    "    'mercedes': '',\n",
    "    'benz': '',\n",
    "    'renault': '',\n",
    "    'nubira': '',\n",
    "    'ford': '',\n",
    "    'chevrolet': '',\n",
    "    'jeep': '',\n",
    "    'subaru': '',\n",
    "    'mazda': '',\n",
    "    'toyota': '',\n",
    "    'jaguar': '',\n",
    "    'kia': '',\n",
    "    'nissan': '',\n",
    "    'audi': '',\n",
    "    'passat': '',\n",
    "    'fiat': '',\n",
    "}"
   ]
  },
  {
   "cell_type": "code",
   "execution_count": 47,
   "metadata": {},
   "outputs": [
    {
     "data": {
      "text/plain": [
       "'ghia mondeo b4y 20'"
      ]
     },
     "execution_count": 47,
     "metadata": {},
     "output_type": "execute_result"
    }
   ],
   "source": [
    "def only_unique_words(model_name):\n",
    "    model_name_split = model_name.split(' ')\n",
    "    return ' '.join(list(set(model_name_split)))\n",
    "only_unique_words('mondeo mondeo 20 ghia b4y')"
   ]
  },
  {
   "cell_type": "code",
   "execution_count": 48,
   "metadata": {},
   "outputs": [
    {
     "data": {
      "text/plain": [
       "'oddysey honda'"
      ]
     },
     "execution_count": 48,
     "metadata": {},
     "output_type": "execute_result"
    }
   ],
   "source": [
    "def replace_model_name(old_model_name):\n",
    "    new_model_name = old_model_name.strip()\n",
    "    for key, value in model_names_to_replace.items():\n",
    "        new_model_name = re.sub(key, value, new_model_name)\n",
    "\n",
    "    new_model_name = only_unique_words(new_model_name)\n",
    "\n",
    "    return new_model_name.strip()\n",
    "replace_model_name(\"honda honda-oddysey''\")"
   ]
  },
  {
   "cell_type": "code",
   "execution_count": 49,
   "metadata": {},
   "outputs": [],
   "source": [
    "data.model = data.model.apply(replace_model_name)"
   ]
  },
  {
   "cell_type": "code",
   "execution_count": 50,
   "metadata": {},
   "outputs": [
    {
     "data": {
      "text/plain": [
       "1080"
      ]
     },
     "execution_count": 50,
     "metadata": {},
     "output_type": "execute_result"
    }
   ],
   "source": [
    "len(data.model.value_counts())"
   ]
  },
  {
   "cell_type": "markdown",
   "metadata": {},
   "source": [
    "new field candidates:\n",
    " - touring\n",
    " - limited\n",
    " - kombi\n",
    " - +\n",
    "\n",
    "\n",
    "weird ones:\n",
    " - k modelle (stra√üe)\n",
    " - "
   ]
  },
  {
   "cell_type": "code",
   "execution_count": 51,
   "metadata": {},
   "outputs": [
    {
     "data": {
      "text/plain": [
       "cinquecento                            3\n",
       "r8                                     3\n",
       "a2 1 4                                 3\n",
       "s                                      3\n",
       "allure                                 3\n",
       "coupe/roadster                         3\n",
       "& 16v twingo 12 n day night            3\n",
       "xv                                     3\n",
       "space wagon                            3\n",
       "talento                                2\n",
       "330d                                   2\n",
       "gt 86                                  2\n",
       "astra g                                2\n",
       "peugeot 208                            2\n",
       "19                                     2\n",
       "eurocargo                              2\n",
       "terracan                               2\n",
       "180 c                                  2\n",
       "vivaro kasten/combi                    2\n",
       "smart forfour                          2\n",
       "shuma                                  2\n",
       "printer s                              2\n",
       "sportback tdi multitronic dpf 30 a5    2\n",
       "cabrio 3rd                             2\n",
       "xc60 geartronic awd d4 summum          2\n",
       "caliber                                2\n",
       "xm                                     2\n",
       "v 40 kombi                             2\n",
       "4th                                    2\n",
       "explorer                               2\n",
       "cascada                                2\n",
       "cabrio a5                              2\n",
       "1km v/vi 1 variant (golf               2\n",
       "prelude                                2\n",
       "4                                      2\n",
       "v90                                    2\n",
       "scenic iii grand                       2\n",
       "roller                                 2\n",
       "k modelle (straße)                     2\n",
       "clubman                                2\n",
       "Name: model, dtype: int64"
      ]
     },
     "execution_count": 51,
     "metadata": {},
     "output_type": "execute_result"
    }
   ],
   "source": [
    "data.model.value_counts()[-440:-400]"
   ]
  },
  {
   "cell_type": "markdown",
   "metadata": {},
   "source": [
    "### Fix Year Registration Value\n"
   ]
  },
  {
   "cell_type": "code",
   "execution_count": 55,
   "metadata": {},
   "outputs": [
    {
     "data": {
      "text/plain": [
       "array([2008., 2016., 2002., 2011., 2006., 2004., 1999., 2015., 1986.,\n",
       "       2001., 2013., 2000., 2005., 2018., 1998., 2017., 2009., 1992.,\n",
       "       2007., 2014., 2012., 2010., 2003., 1997., 1996., 1985., 1991.,\n",
       "       1988., 1990., 1982., 1994., 1900., 1995.,   nan, 1984., 1950.,\n",
       "       1979., 1983., 1987., 1989., 1901., 1980., 1993., 1981., 2019.,\n",
       "       1975., 1974., 1972., 1976., 3013., 1096., 1965., 1969., 1978.,\n",
       "       1977., 1963., 1973., 1968., 1959., 1964., 1967., 1961., 1958.,\n",
       "       1970., 1960., 1952., 1971., 1953., 1949., 1956., 1966.])"
      ]
     },
     "execution_count": 55,
     "metadata": {},
     "output_type": "execute_result"
    }
   ],
   "source": [
    "data.year_of_registration_date.unique()"
   ]
  },
  {
   "cell_type": "code",
   "execution_count": 56,
   "metadata": {},
   "outputs": [],
   "source": [
    "data.loc[data.year_of_registration_date == 3013,'year_of_registration_date'] = 2013\n",
    "data.loc[data.year_of_registration_date == 1096, 'year_of_registration_date'] = 1996"
   ]
  },
  {
   "cell_type": "code",
   "execution_count": 57,
   "metadata": {},
   "outputs": [
    {
     "data": {
      "text/plain": [
       "<matplotlib.axes._subplots.AxesSubplot at 0x7f9a2e523400>"
      ]
     },
     "execution_count": 57,
     "metadata": {},
     "output_type": "execute_result"
    },
    {
     "data": {
      "image/png": "[encoded data removed]",
      "text/plain": [
       "<matplotlib.figure.Figure at 0x7f9a2f01cef0>"
      ]
     },
     "metadata": {},
     "output_type": "display_data"
    }
   ],
   "source": [
    "pd.crosstab(data.year_of_registration_date, data.copart_get).plot(kind='bar')"
   ]
  },
  {
   "cell_type": "code",
   "execution_count": 58,
   "metadata": {},
   "outputs": [
    {
     "data": {
      "image/png": "[encoded data removed]",
      "text/plain": [
       "<matplotlib.figure.Figure at 0x7f9a2ed4fac8>"
      ]
     },
     "metadata": {},
     "output_type": "display_data"
    }
   ],
   "source": [
    "num_bins = 10\n",
    "data.hist(bins=num_bins, figsize = (20,15))\n",
    "plt.show()"
   ]
  },
  {
   "cell_type": "markdown",
   "metadata": {},
   "source": [
    "## Creating dummy variables for categorical variables\n",
    "There are four caegorical variables in the data set and they need to be converted to dummy variables before they can be used for modeling. "
   ]
  },
  {
   "cell_type": "code",
   "execution_count": 59,
   "metadata": {},
   "outputs": [
    {
     "data": {
      "text/plain": [
       "id                              0\n",
       "car_type                        0\n",
       "fuel_type                    1198\n",
       "make                         2614\n",
       "model                           0\n",
       "odometer_reading                0\n",
       "year_of_registration_date     226\n",
       "pav                          5287\n",
       "total_repair_cost            1882\n",
       "highest_bid_price               0\n",
       "copart_get                      0\n",
       "dtype: int64"
      ]
     },
     "execution_count": 59,
     "metadata": {},
     "output_type": "execute_result"
    }
   ],
   "source": [
    "data.isnull().sum()"
   ]
  },
  {
   "cell_type": "code",
   "execution_count": 52,
   "metadata": {},
   "outputs": [
    {
     "data": {
      "text/html": [
       "<div>\n",
       "<style scoped>\n",
       "    .dataframe tbody tr th:only-of-type {\n",
       "        vertical-align: middle;\n",
       "    }\n",
       "\n",
       "    .dataframe tbody tr th {\n",
       "        vertical-align: top;\n",
       "    }\n",
       "\n",
       "    .dataframe thead th {\n",
       "        text-align: right;\n",
       "    }\n",
       "</style>\n",
       "<table border=\"1\" class=\"dataframe\">\n",
       "  <thead>\n",
       "    <tr style=\"text-align: right;\">\n",
       "      <th></th>\n",
       "      <th>id</th>\n",
       "      <th>car_type</th>\n",
       "      <th>fuel_type</th>\n",
       "      <th>make</th>\n",
       "      <th>model</th>\n",
       "      <th>odometer_reading</th>\n",
       "      <th>year_of_registration_date</th>\n",
       "      <th>pav</th>\n",
       "      <th>total_repair_cost</th>\n",
       "      <th>highest_bid_price</th>\n",
       "      <th>copart_get</th>\n",
       "    </tr>\n",
       "  </thead>\n",
       "  <tbody>\n",
       "    <tr>\n",
       "      <th>0</th>\n",
       "      <td>42499</td>\n",
       "      <td>Passenger_car</td>\n",
       "      <td>Gasoline</td>\n",
       "      <td>bmw</td>\n",
       "      <td>318</td>\n",
       "      <td>175160.0</td>\n",
       "      <td>2008.0</td>\n",
       "      <td>7500.0</td>\n",
       "      <td>14756.0</td>\n",
       "      <td>1200</td>\n",
       "      <td>0</td>\n",
       "    </tr>\n",
       "    <tr>\n",
       "      <th>1</th>\n",
       "      <td>71617</td>\n",
       "      <td>Truck_transporter_bus</td>\n",
       "      <td>Diesel</td>\n",
       "      <td>renault</td>\n",
       "      <td>master iii</td>\n",
       "      <td>212480.0</td>\n",
       "      <td>2016.0</td>\n",
       "      <td>11500.0</td>\n",
       "      <td>5239.0</td>\n",
       "      <td>5555</td>\n",
       "      <td>0</td>\n",
       "    </tr>\n",
       "    <tr>\n",
       "      <th>2</th>\n",
       "      <td>40567</td>\n",
       "      <td>Passenger_car</td>\n",
       "      <td>Gasoline</td>\n",
       "      <td>fiat</td>\n",
       "      <td>panda</td>\n",
       "      <td>113229.0</td>\n",
       "      <td>2008.0</td>\n",
       "      <td>2000.0</td>\n",
       "      <td>7400.0</td>\n",
       "      <td>200</td>\n",
       "      <td>0</td>\n",
       "    </tr>\n",
       "    <tr>\n",
       "      <th>3</th>\n",
       "      <td>27245</td>\n",
       "      <td>Passenger_car</td>\n",
       "      <td>Gasoline</td>\n",
       "      <td>volkswagen</td>\n",
       "      <td>nan</td>\n",
       "      <td>202511.0</td>\n",
       "      <td>2002.0</td>\n",
       "      <td>500.0</td>\n",
       "      <td>1544.0</td>\n",
       "      <td>188</td>\n",
       "      <td>0</td>\n",
       "    </tr>\n",
       "    <tr>\n",
       "      <th>4</th>\n",
       "      <td>40418</td>\n",
       "      <td>Passenger_car</td>\n",
       "      <td>Gasoline</td>\n",
       "      <td>volkswagen</td>\n",
       "      <td>nan</td>\n",
       "      <td>74060.0</td>\n",
       "      <td>2011.0</td>\n",
       "      <td>4500.0</td>\n",
       "      <td>3438.0</td>\n",
       "      <td>1210</td>\n",
       "      <td>0</td>\n",
       "    </tr>\n",
       "  </tbody>\n",
       "</table>\n",
       "</div>"
      ],
      "text/plain": [
       "      id               car_type fuel_type        make       model  \\\n",
       "0  42499          Passenger_car  Gasoline         bmw         318   \n",
       "1  71617  Truck_transporter_bus    Diesel     renault  master iii   \n",
       "2  40567          Passenger_car  Gasoline        fiat       panda   \n",
       "3  27245          Passenger_car  Gasoline  volkswagen         nan   \n",
       "4  40418          Passenger_car  Gasoline  volkswagen         nan   \n",
       "\n",
       "   odometer_reading  year_of_registration_date      pav  total_repair_cost  \\\n",
       "0          175160.0                     2008.0   7500.0            14756.0   \n",
       "1          212480.0                     2016.0  11500.0             5239.0   \n",
       "2          113229.0                     2008.0   2000.0             7400.0   \n",
       "3          202511.0                     2002.0    500.0             1544.0   \n",
       "4           74060.0                     2011.0   4500.0             3438.0   \n",
       "\n",
       "   highest_bid_price  copart_get  \n",
       "0               1200           0  \n",
       "1               5555           0  \n",
       "2                200           0  \n",
       "3                188           0  \n",
       "4               1210           0  "
      ]
     },
     "execution_count": 52,
     "metadata": {},
     "output_type": "execute_result"
    }
   ],
   "source": [
    "data.head()"
   ]
  },
  {
   "cell_type": "markdown",
   "metadata": {},
   "source": [
    "check unique values for each columns"
   ]
  },
  {
   "cell_type": "code",
   "execution_count": 54,
   "metadata": {},
   "outputs": [
    {
     "name": "stdout",
     "output_type": "stream",
     "text": [
      "id :  64172\n",
      "car_type :  5\n",
      "fuel_type :  7\n",
      "make :  102\n",
      "model :  1080\n",
      "odometer_reading :  54322\n",
      "year_of_registration_date :  70\n",
      "pav :  2623\n",
      "total_repair_cost :  18569\n",
      "highest_bid_price :  6691\n",
      "copart_get :  2\n"
     ]
    }
   ],
   "source": [
    "def unique_count(df):\n",
    "    for i in df.columns:\n",
    "        count = df[i].nunique()\n",
    "        print(i, \": \", count)\n",
    "unique_count(data)"
   ]
  },
  {
   "cell_type": "code",
   "execution_count": 63,
   "metadata": {},
   "outputs": [],
   "source": [
    "cat_vars = ['car_type', 'fuel_type', 'make', 'model']\n",
    "for var in cat_vars:\n",
    "    cat_list = 'var' + \"_\" + var\n",
    "    cat_list = pd.get_dummies(data[var], prefix=var)\n",
    "    df1 = data.join(cat_list)\n",
    "    data = df1"
   ]
  },
  {
   "cell_type": "code",
   "execution_count": 64,
   "metadata": {},
   "outputs": [],
   "source": [
    "cat_vars = data.columns.values.tolist()\n",
    "y = 'copart_get'\n",
    "X = [i for i in cat_vars if i not in y]"
   ]
  },
  {
   "cell_type": "code",
   "execution_count": 68,
   "metadata": {},
   "outputs": [
    {
     "data": {
      "text/plain": [
       "['id',\n",
       " 'car_type',\n",
       " 'fuel_type',\n",
       " 'make',\n",
       " 'model',\n",
       " 'odometer_reading',\n",
       " 'year_of_registration_date',\n",
       " 'pav',\n",
       " 'total_repair_cost',\n",
       " 'highest_bid_price']"
      ]
     },
     "execution_count": 68,
     "metadata": {},
     "output_type": "execute_result"
    }
   ],
   "source": [
    "X[:10]"
   ]
  },
  {
   "cell_type": "code",
   "execution_count": null,
   "metadata": {},
   "outputs": [],
   "source": []
  },
  {
   "cell_type": "code",
   "execution_count": null,
   "metadata": {},
   "outputs": [],
   "source": []
  },
  {
   "cell_type": "code",
   "execution_count": null,
   "metadata": {},
   "outputs": [],
   "source": []
  },
  {
   "cell_type": "code",
   "execution_count": null,
   "metadata": {},
   "outputs": [],
   "source": []
  }
 ],
 "metadata": {
  "kernelspec": {
   "display_name": "Python [default]",
   "language": "python",
   "name": "python3"
  },
  "language_info": {
   "codemirror_mode": {
    "name": "ipython",
    "version": 3
   },
   "file_extension": ".py",
   "mimetype": "text/x-python",
   "name": "python",
   "nbconvert_exporter": "python",
   "pygments_lexer": "ipython3",
   "version": "3.5.4"
  }
 },
 "nbformat": 4,
 "nbformat_minor": 2
}
