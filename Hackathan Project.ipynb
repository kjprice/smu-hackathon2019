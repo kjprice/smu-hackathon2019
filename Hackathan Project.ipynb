{
 "cells": [
  {
   "cell_type": "code",
   "execution_count": 1,
   "metadata": {},
   "outputs": [],
   "source": [
    "import pandas as pd\n",
    "import matplotlib.pyplot as plt\n",
    "import seaborn as sns\n",
    "import os"
   ]
  },
  {
   "cell_type": "code",
   "execution_count": 2,
   "metadata": {},
   "outputs": [],
   "source": [
    "DATA_DIR = 'data'\n",
    "TRAIN_FILEPATH = os.path.join(DATA_DIR, 'Datathon_train_data_Saturday.csv')"
   ]
  },
  {
   "cell_type": "code",
   "execution_count": 3,
   "metadata": {},
   "outputs": [],
   "source": [
    "data_raw = pd.read_csv(TRAIN_FILEPATH)"
   ]
  },
  {
   "cell_type": "code",
   "execution_count": 4,
   "metadata": {},
   "outputs": [
    {
     "data": {
      "text/plain": [
       "(64181, 9)"
      ]
     },
     "execution_count": 4,
     "metadata": {},
     "output_type": "execute_result"
    }
   ],
   "source": [
    "data_raw.shape"
   ]
  },
  {
   "cell_type": "code",
   "execution_count": 5,
   "metadata": {},
   "outputs": [],
   "source": [
    "data_raw.columns = [column.lower().replace(' ', '_') for column in data_raw.columns]"
   ]
  },
  {
   "cell_type": "code",
   "execution_count": 6,
   "metadata": {},
   "outputs": [
    {
     "data": {
      "text/html": [
       "<div>\n",
       "<style scoped>\n",
       "    .dataframe tbody tr th:only-of-type {\n",
       "        vertical-align: middle;\n",
       "    }\n",
       "\n",
       "    .dataframe tbody tr th {\n",
       "        vertical-align: top;\n",
       "    }\n",
       "\n",
       "    .dataframe thead th {\n",
       "        text-align: right;\n",
       "    }\n",
       "</style>\n",
       "<table border=\"1\" class=\"dataframe\">\n",
       "  <thead>\n",
       "    <tr style=\"text-align: right;\">\n",
       "      <th></th>\n",
       "      <th>id</th>\n",
       "      <th>car_type</th>\n",
       "      <th>fuel_type</th>\n",
       "      <th>make</th>\n",
       "      <th>model</th>\n",
       "      <th>odometer_reading</th>\n",
       "      <th>year_of_registration_date</th>\n",
       "      <th>pav</th>\n",
       "      <th>total_repair_cost</th>\n",
       "    </tr>\n",
       "  </thead>\n",
       "  <tbody>\n",
       "    <tr>\n",
       "      <th>20112</th>\n",
       "      <td>33820</td>\n",
       "      <td>Passenger_car</td>\n",
       "      <td>Gasoline</td>\n",
       "      <td>Volkswagen</td>\n",
       "      <td>polo</td>\n",
       "      <td>89695.0</td>\n",
       "      <td>2008.0</td>\n",
       "      <td>4950.0</td>\n",
       "      <td>5176.0</td>\n",
       "    </tr>\n",
       "    <tr>\n",
       "      <th>14025</th>\n",
       "      <td>54512</td>\n",
       "      <td>Passenger_car</td>\n",
       "      <td>Gasoline</td>\n",
       "      <td>Peugeot</td>\n",
       "      <td>NaN</td>\n",
       "      <td>188688.0</td>\n",
       "      <td>2004.0</td>\n",
       "      <td>2400.0</td>\n",
       "      <td>20000.0</td>\n",
       "    </tr>\n",
       "    <tr>\n",
       "      <th>46429</th>\n",
       "      <td>63617</td>\n",
       "      <td>Passenger_car</td>\n",
       "      <td>Diesel</td>\n",
       "      <td>Skoda</td>\n",
       "      <td>Yeti</td>\n",
       "      <td>57754.0</td>\n",
       "      <td>2014.0</td>\n",
       "      <td>18000.0</td>\n",
       "      <td>18729.0</td>\n",
       "    </tr>\n",
       "    <tr>\n",
       "      <th>928</th>\n",
       "      <td>14670</td>\n",
       "      <td>Passenger_car</td>\n",
       "      <td>unknown</td>\n",
       "      <td>Ford</td>\n",
       "      <td>NaN</td>\n",
       "      <td>92191.0</td>\n",
       "      <td>2008.0</td>\n",
       "      <td>NaN</td>\n",
       "      <td>NaN</td>\n",
       "    </tr>\n",
       "    <tr>\n",
       "      <th>8409</th>\n",
       "      <td>83462</td>\n",
       "      <td>Passenger_car</td>\n",
       "      <td>Gasoline</td>\n",
       "      <td>Kia</td>\n",
       "      <td>Picanto</td>\n",
       "      <td>71284.0</td>\n",
       "      <td>2006.0</td>\n",
       "      <td>3100.0</td>\n",
       "      <td>2141.0</td>\n",
       "    </tr>\n",
       "    <tr>\n",
       "      <th>8199</th>\n",
       "      <td>45250</td>\n",
       "      <td>Truck_transporter_bus</td>\n",
       "      <td>Diesel</td>\n",
       "      <td>FIAT</td>\n",
       "      <td>NaN</td>\n",
       "      <td>28826.0</td>\n",
       "      <td>2018.0</td>\n",
       "      <td>23000.0</td>\n",
       "      <td>9789.0</td>\n",
       "    </tr>\n",
       "    <tr>\n",
       "      <th>9887</th>\n",
       "      <td>54004</td>\n",
       "      <td>Passenger_car</td>\n",
       "      <td>Diesel</td>\n",
       "      <td>mercedes</td>\n",
       "      <td>NaN</td>\n",
       "      <td>50816.0</td>\n",
       "      <td>2014.0</td>\n",
       "      <td>23500.0</td>\n",
       "      <td>8721.0</td>\n",
       "    </tr>\n",
       "    <tr>\n",
       "      <th>26420</th>\n",
       "      <td>65147</td>\n",
       "      <td>Passenger_car</td>\n",
       "      <td>Diesel</td>\n",
       "      <td>BMW</td>\n",
       "      <td>3-er Reihe</td>\n",
       "      <td>295477.0</td>\n",
       "      <td>2003.0</td>\n",
       "      <td>2900.0</td>\n",
       "      <td>1992.0</td>\n",
       "    </tr>\n",
       "    <tr>\n",
       "      <th>37459</th>\n",
       "      <td>76855</td>\n",
       "      <td>Passenger_car</td>\n",
       "      <td>Gasoline</td>\n",
       "      <td>Mitsubishi</td>\n",
       "      <td>Lancer</td>\n",
       "      <td>168546.0</td>\n",
       "      <td>2005.0</td>\n",
       "      <td>2200.0</td>\n",
       "      <td>1279.0</td>\n",
       "    </tr>\n",
       "    <tr>\n",
       "      <th>44735</th>\n",
       "      <td>30643</td>\n",
       "      <td>Passenger_car</td>\n",
       "      <td>Diesel</td>\n",
       "      <td>Skoda</td>\n",
       "      <td>NaN</td>\n",
       "      <td>147167.0</td>\n",
       "      <td>2009.0</td>\n",
       "      <td>5900.0</td>\n",
       "      <td>2769.0</td>\n",
       "    </tr>\n",
       "  </tbody>\n",
       "</table>\n",
       "</div>"
      ],
      "text/plain": [
       "          id               car_type fuel_type        make       model  \\\n",
       "20112  33820          Passenger_car  Gasoline  Volkswagen        polo   \n",
       "14025  54512          Passenger_car  Gasoline     Peugeot         NaN   \n",
       "46429  63617          Passenger_car    Diesel       Skoda        Yeti   \n",
       "928    14670          Passenger_car   unknown        Ford         NaN   \n",
       "8409   83462          Passenger_car  Gasoline         Kia     Picanto   \n",
       "8199   45250  Truck_transporter_bus    Diesel        FIAT         NaN   \n",
       "9887   54004          Passenger_car    Diesel    mercedes         NaN   \n",
       "26420  65147          Passenger_car    Diesel         BMW  3-er Reihe   \n",
       "37459  76855          Passenger_car  Gasoline  Mitsubishi      Lancer   \n",
       "44735  30643          Passenger_car    Diesel       Skoda         NaN   \n",
       "\n",
       "       odometer_reading  year_of_registration_date      pav  total_repair_cost  \n",
       "20112           89695.0                     2008.0   4950.0             5176.0  \n",
       "14025          188688.0                     2004.0   2400.0            20000.0  \n",
       "46429           57754.0                     2014.0  18000.0            18729.0  \n",
       "928             92191.0                     2008.0      NaN                NaN  \n",
       "8409            71284.0                     2006.0   3100.0             2141.0  \n",
       "8199            28826.0                     2018.0  23000.0             9789.0  \n",
       "9887            50816.0                     2014.0  23500.0             8721.0  \n",
       "26420          295477.0                     2003.0   2900.0             1992.0  \n",
       "37459          168546.0                     2005.0   2200.0             1279.0  \n",
       "44735          147167.0                     2009.0   5900.0             2769.0  "
      ]
     },
     "execution_count": 6,
     "metadata": {},
     "output_type": "execute_result"
    }
   ],
   "source": [
    "data_raw.sample(10)"
   ]
  },
  {
   "cell_type": "code",
   "execution_count": 7,
   "metadata": {},
   "outputs": [
    {
     "data": {
      "text/plain": [
       "id                             int64\n",
       "car_type                      object\n",
       "fuel_type                     object\n",
       "make                          object\n",
       "model                         object\n",
       "odometer_reading             float64\n",
       "year_of_registration_date    float64\n",
       "pav                          float64\n",
       "total_repair_cost            float64\n",
       "dtype: object"
      ]
     },
     "execution_count": 7,
     "metadata": {},
     "output_type": "execute_result"
    }
   ],
   "source": [
    "data_raw.dtypes"
   ]
  },
  {
   "cell_type": "code",
   "execution_count": 8,
   "metadata": {},
   "outputs": [
    {
     "data": {
      "text/html": [
       "<div>\n",
       "<style scoped>\n",
       "    .dataframe tbody tr th:only-of-type {\n",
       "        vertical-align: middle;\n",
       "    }\n",
       "\n",
       "    .dataframe tbody tr th {\n",
       "        vertical-align: top;\n",
       "    }\n",
       "\n",
       "    .dataframe thead th {\n",
       "        text-align: right;\n",
       "    }\n",
       "</style>\n",
       "<table border=\"1\" class=\"dataframe\">\n",
       "  <thead>\n",
       "    <tr style=\"text-align: right;\">\n",
       "      <th></th>\n",
       "      <th>id</th>\n",
       "      <th>odometer_reading</th>\n",
       "      <th>year_of_registration_date</th>\n",
       "      <th>pav</th>\n",
       "      <th>total_repair_cost</th>\n",
       "    </tr>\n",
       "  </thead>\n",
       "  <tbody>\n",
       "    <tr>\n",
       "      <th>count</th>\n",
       "      <td>64181.000000</td>\n",
       "      <td>6.320000e+04</td>\n",
       "      <td>63955.000000</td>\n",
       "      <td>5.889400e+04</td>\n",
       "      <td>62299.000000</td>\n",
       "    </tr>\n",
       "    <tr>\n",
       "      <th>mean</th>\n",
       "      <td>45923.967732</td>\n",
       "      <td>1.742280e+10</td>\n",
       "      <td>2008.338832</td>\n",
       "      <td>9.541848e+03</td>\n",
       "      <td>9151.546879</td>\n",
       "    </tr>\n",
       "    <tr>\n",
       "      <th>std</th>\n",
       "      <td>26469.905566</td>\n",
       "      <td>3.997622e+12</td>\n",
       "      <td>8.934258</td>\n",
       "      <td>7.865586e+04</td>\n",
       "      <td>14295.423908</td>\n",
       "    </tr>\n",
       "    <tr>\n",
       "      <th>min</th>\n",
       "      <td>1.000000</td>\n",
       "      <td>0.000000e+00</td>\n",
       "      <td>1096.000000</td>\n",
       "      <td>-1.080000e+04</td>\n",
       "      <td>0.000000</td>\n",
       "    </tr>\n",
       "    <tr>\n",
       "      <th>25%</th>\n",
       "      <td>23086.000000</td>\n",
       "      <td>6.766100e+04</td>\n",
       "      <td>2005.000000</td>\n",
       "      <td>2.900000e+03</td>\n",
       "      <td>3171.000000</td>\n",
       "    </tr>\n",
       "    <tr>\n",
       "      <th>50%</th>\n",
       "      <td>45920.000000</td>\n",
       "      <td>1.247240e+05</td>\n",
       "      <td>2009.000000</td>\n",
       "      <td>5.900000e+03</td>\n",
       "      <td>5667.000000</td>\n",
       "    </tr>\n",
       "    <tr>\n",
       "      <th>75%</th>\n",
       "      <td>68940.000000</td>\n",
       "      <td>1.856438e+05</td>\n",
       "      <td>2013.000000</td>\n",
       "      <td>1.100000e+04</td>\n",
       "      <td>10295.000000</td>\n",
       "    </tr>\n",
       "    <tr>\n",
       "      <th>max</th>\n",
       "      <td>91685.000000</td>\n",
       "      <td>1.000000e+15</td>\n",
       "      <td>3013.000000</td>\n",
       "      <td>1.880040e+07</td>\n",
       "      <td>914519.000000</td>\n",
       "    </tr>\n",
       "  </tbody>\n",
       "</table>\n",
       "</div>"
      ],
      "text/plain": [
       "                 id  odometer_reading  year_of_registration_date  \\\n",
       "count  64181.000000      6.320000e+04               63955.000000   \n",
       "mean   45923.967732      1.742280e+10                2008.338832   \n",
       "std    26469.905566      3.997622e+12                   8.934258   \n",
       "min        1.000000      0.000000e+00                1096.000000   \n",
       "25%    23086.000000      6.766100e+04                2005.000000   \n",
       "50%    45920.000000      1.247240e+05                2009.000000   \n",
       "75%    68940.000000      1.856438e+05                2013.000000   \n",
       "max    91685.000000      1.000000e+15                3013.000000   \n",
       "\n",
       "                pav  total_repair_cost  \n",
       "count  5.889400e+04       62299.000000  \n",
       "mean   9.541848e+03        9151.546879  \n",
       "std    7.865586e+04       14295.423908  \n",
       "min   -1.080000e+04           0.000000  \n",
       "25%    2.900000e+03        3171.000000  \n",
       "50%    5.900000e+03        5667.000000  \n",
       "75%    1.100000e+04       10295.000000  \n",
       "max    1.880040e+07      914519.000000  "
      ]
     },
     "execution_count": 8,
     "metadata": {},
     "output_type": "execute_result"
    }
   ],
   "source": [
    "data_raw.describe()"
   ]
  },
  {
   "cell_type": "code",
   "execution_count": 9,
   "metadata": {},
   "outputs": [],
   "source": [
    "#sns.sample(10000).pairplot(data)"
   ]
  },
  {
   "cell_type": "code",
   "execution_count": 10,
   "metadata": {},
   "outputs": [],
   "source": [
    "#data_raw['odometer_reading'].hist()"
   ]
  },
  {
   "cell_type": "markdown",
   "metadata": {},
   "source": [
    "# Huge Odometer"
   ]
  },
  {
   "cell_type": "code",
   "execution_count": 11,
   "metadata": {},
   "outputs": [],
   "source": [
    "#data_raw.Make[data_raw.Make.isnull()] = 'kj'"
   ]
  },
  {
   "cell_type": "code",
   "execution_count": 12,
   "metadata": {},
   "outputs": [
    {
     "data": {
      "text/html": [
       "<div>\n",
       "<style scoped>\n",
       "    .dataframe tbody tr th:only-of-type {\n",
       "        vertical-align: middle;\n",
       "    }\n",
       "\n",
       "    .dataframe tbody tr th {\n",
       "        vertical-align: top;\n",
       "    }\n",
       "\n",
       "    .dataframe thead th {\n",
       "        text-align: right;\n",
       "    }\n",
       "</style>\n",
       "<table border=\"1\" class=\"dataframe\">\n",
       "  <thead>\n",
       "    <tr style=\"text-align: right;\">\n",
       "      <th></th>\n",
       "      <th>id</th>\n",
       "      <th>car_type</th>\n",
       "      <th>fuel_type</th>\n",
       "      <th>make</th>\n",
       "      <th>model</th>\n",
       "      <th>odometer_reading</th>\n",
       "      <th>year_of_registration_date</th>\n",
       "      <th>pav</th>\n",
       "      <th>total_repair_cost</th>\n",
       "    </tr>\n",
       "  </thead>\n",
       "  <tbody>\n",
       "    <tr>\n",
       "      <th>26668</th>\n",
       "      <td>55338</td>\n",
       "      <td>Passenger_car</td>\n",
       "      <td>unknown</td>\n",
       "      <td>NaN</td>\n",
       "      <td>NaN</td>\n",
       "      <td>1.000000e+15</td>\n",
       "      <td>2003.0</td>\n",
       "      <td>7500.0</td>\n",
       "      <td>14000.0</td>\n",
       "    </tr>\n",
       "    <tr>\n",
       "      <th>14416</th>\n",
       "      <td>57981</td>\n",
       "      <td>Other</td>\n",
       "      <td>unknown</td>\n",
       "      <td>NaN</td>\n",
       "      <td>NaN</td>\n",
       "      <td>1.000000e+14</td>\n",
       "      <td>2011.0</td>\n",
       "      <td>9460.0</td>\n",
       "      <td>9300.0</td>\n",
       "    </tr>\n",
       "    <tr>\n",
       "      <th>55845</th>\n",
       "      <td>24085</td>\n",
       "      <td>Other</td>\n",
       "      <td>unknown</td>\n",
       "      <td>NaN</td>\n",
       "      <td>NaN</td>\n",
       "      <td>1.000000e+12</td>\n",
       "      <td>2007.0</td>\n",
       "      <td>8270.0</td>\n",
       "      <td>5502.0</td>\n",
       "    </tr>\n",
       "    <tr>\n",
       "      <th>7848</th>\n",
       "      <td>34223</td>\n",
       "      <td>Other</td>\n",
       "      <td>unknown</td>\n",
       "      <td>NaN</td>\n",
       "      <td>NaN</td>\n",
       "      <td>1.000000e+11</td>\n",
       "      <td>2007.0</td>\n",
       "      <td>35700.0</td>\n",
       "      <td>16657.0</td>\n",
       "    </tr>\n",
       "    <tr>\n",
       "      <th>5152</th>\n",
       "      <td>83757</td>\n",
       "      <td>Other</td>\n",
       "      <td>unknown</td>\n",
       "      <td>NaN</td>\n",
       "      <td>NaN</td>\n",
       "      <td>1.010101e+10</td>\n",
       "      <td>2017.0</td>\n",
       "      <td>41650.0</td>\n",
       "      <td>49100.0</td>\n",
       "    </tr>\n",
       "    <tr>\n",
       "      <th>17632</th>\n",
       "      <td>54168</td>\n",
       "      <td>Other</td>\n",
       "      <td>unknown</td>\n",
       "      <td>NaN</td>\n",
       "      <td>NaN</td>\n",
       "      <td>1.111111e+09</td>\n",
       "      <td>2014.0</td>\n",
       "      <td>14000.0</td>\n",
       "      <td>30000.0</td>\n",
       "    </tr>\n",
       "    <tr>\n",
       "      <th>21577</th>\n",
       "      <td>43986</td>\n",
       "      <td>Other</td>\n",
       "      <td>unknown</td>\n",
       "      <td>NaN</td>\n",
       "      <td>NaN</td>\n",
       "      <td>1.000000e+09</td>\n",
       "      <td>2016.0</td>\n",
       "      <td>17600.0</td>\n",
       "      <td>7442.0</td>\n",
       "    </tr>\n",
       "    <tr>\n",
       "      <th>46469</th>\n",
       "      <td>17445</td>\n",
       "      <td>Other</td>\n",
       "      <td>unknown</td>\n",
       "      <td>NaN</td>\n",
       "      <td>NaN</td>\n",
       "      <td>1.000000e+08</td>\n",
       "      <td>2013.0</td>\n",
       "      <td>12971.0</td>\n",
       "      <td>13958.0</td>\n",
       "    </tr>\n",
       "    <tr>\n",
       "      <th>48721</th>\n",
       "      <td>22059</td>\n",
       "      <td>Other</td>\n",
       "      <td>NaN</td>\n",
       "      <td>NaN</td>\n",
       "      <td>NaN</td>\n",
       "      <td>1.000000e+08</td>\n",
       "      <td>1996.0</td>\n",
       "      <td>3750.0</td>\n",
       "      <td>3912.0</td>\n",
       "    </tr>\n",
       "    <tr>\n",
       "      <th>18330</th>\n",
       "      <td>7258</td>\n",
       "      <td>Passenger_car</td>\n",
       "      <td>Gasoline</td>\n",
       "      <td>Opel</td>\n",
       "      <td>corsa</td>\n",
       "      <td>9.793945e+07</td>\n",
       "      <td>2000.0</td>\n",
       "      <td>1900.0</td>\n",
       "      <td>6345.0</td>\n",
       "    </tr>\n",
       "    <tr>\n",
       "      <th>1969</th>\n",
       "      <td>55716</td>\n",
       "      <td>Passenger_car</td>\n",
       "      <td>unknown</td>\n",
       "      <td>NaN</td>\n",
       "      <td>NaN</td>\n",
       "      <td>1.010101e+07</td>\n",
       "      <td>1991.0</td>\n",
       "      <td>4800.0</td>\n",
       "      <td>7600.0</td>\n",
       "    </tr>\n",
       "    <tr>\n",
       "      <th>15963</th>\n",
       "      <td>35933</td>\n",
       "      <td>Other</td>\n",
       "      <td>unknown</td>\n",
       "      <td>NaN</td>\n",
       "      <td>NaN</td>\n",
       "      <td>9.999999e+06</td>\n",
       "      <td>2010.0</td>\n",
       "      <td>19040.0</td>\n",
       "      <td>19005.0</td>\n",
       "    </tr>\n",
       "    <tr>\n",
       "      <th>26240</th>\n",
       "      <td>46851</td>\n",
       "      <td>Other</td>\n",
       "      <td>unknown</td>\n",
       "      <td>NaN</td>\n",
       "      <td>NaN</td>\n",
       "      <td>9.999999e+06</td>\n",
       "      <td>2008.0</td>\n",
       "      <td>5200.0</td>\n",
       "      <td>8500.0</td>\n",
       "    </tr>\n",
       "    <tr>\n",
       "      <th>56714</th>\n",
       "      <td>37884</td>\n",
       "      <td>Other</td>\n",
       "      <td>unknown</td>\n",
       "      <td>NaN</td>\n",
       "      <td>NaN</td>\n",
       "      <td>9.999999e+06</td>\n",
       "      <td>2017.0</td>\n",
       "      <td>60095.0</td>\n",
       "      <td>40687.0</td>\n",
       "    </tr>\n",
       "    <tr>\n",
       "      <th>62738</th>\n",
       "      <td>54181</td>\n",
       "      <td>Other</td>\n",
       "      <td>unknown</td>\n",
       "      <td>NaN</td>\n",
       "      <td>NaN</td>\n",
       "      <td>9.999996e+06</td>\n",
       "      <td>1982.0</td>\n",
       "      <td>4879.0</td>\n",
       "      <td>6500.0</td>\n",
       "    </tr>\n",
       "    <tr>\n",
       "      <th>57825</th>\n",
       "      <td>61785</td>\n",
       "      <td>Truck_transporter_bus</td>\n",
       "      <td>Diesel</td>\n",
       "      <td>Mercedes-Benz</td>\n",
       "      <td>Sprinter</td>\n",
       "      <td>4.631645e+06</td>\n",
       "      <td>2002.0</td>\n",
       "      <td>4500.0</td>\n",
       "      <td>4398.0</td>\n",
       "    </tr>\n",
       "    <tr>\n",
       "      <th>33022</th>\n",
       "      <td>84265</td>\n",
       "      <td>Passenger_car</td>\n",
       "      <td>Diesel</td>\n",
       "      <td>MERCEDES</td>\n",
       "      <td>E 200</td>\n",
       "      <td>3.298263e+06</td>\n",
       "      <td>2004.0</td>\n",
       "      <td>4650.0</td>\n",
       "      <td>3031.0</td>\n",
       "    </tr>\n",
       "    <tr>\n",
       "      <th>63694</th>\n",
       "      <td>29530</td>\n",
       "      <td>Passenger_car</td>\n",
       "      <td>Gasoline</td>\n",
       "      <td>Volkswagen</td>\n",
       "      <td>golf</td>\n",
       "      <td>2.755335e+06</td>\n",
       "      <td>1993.0</td>\n",
       "      <td>1500.0</td>\n",
       "      <td>10084.0</td>\n",
       "    </tr>\n",
       "    <tr>\n",
       "      <th>5928</th>\n",
       "      <td>74054</td>\n",
       "      <td>Passenger_car</td>\n",
       "      <td>Gasoline</td>\n",
       "      <td>Honda</td>\n",
       "      <td>Civic</td>\n",
       "      <td>2.120212e+06</td>\n",
       "      <td>1999.0</td>\n",
       "      <td>1500.0</td>\n",
       "      <td>8403.0</td>\n",
       "    </tr>\n",
       "    <tr>\n",
       "      <th>60142</th>\n",
       "      <td>80945</td>\n",
       "      <td>Passenger_car</td>\n",
       "      <td>Gasoline</td>\n",
       "      <td>Opel</td>\n",
       "      <td>Corsa</td>\n",
       "      <td>2.099934e+06</td>\n",
       "      <td>2001.0</td>\n",
       "      <td>800.0</td>\n",
       "      <td>1296.0</td>\n",
       "    </tr>\n",
       "    <tr>\n",
       "      <th>10056</th>\n",
       "      <td>72777</td>\n",
       "      <td>Passenger_car</td>\n",
       "      <td>Gasoline</td>\n",
       "      <td>Renault</td>\n",
       "      <td>Clio</td>\n",
       "      <td>2.014245e+06</td>\n",
       "      <td>2003.0</td>\n",
       "      <td>1750.0</td>\n",
       "      <td>3169.0</td>\n",
       "    </tr>\n",
       "    <tr>\n",
       "      <th>57865</th>\n",
       "      <td>66938</td>\n",
       "      <td>Passenger_car</td>\n",
       "      <td>Gasoline</td>\n",
       "      <td>Toyota</td>\n",
       "      <td>Corolla</td>\n",
       "      <td>1.920250e+06</td>\n",
       "      <td>2001.0</td>\n",
       "      <td>NaN</td>\n",
       "      <td>2227.0</td>\n",
       "    </tr>\n",
       "    <tr>\n",
       "      <th>41317</th>\n",
       "      <td>88416</td>\n",
       "      <td>Passenger_car</td>\n",
       "      <td>Gasoline</td>\n",
       "      <td>Hyundai</td>\n",
       "      <td>Getz</td>\n",
       "      <td>1.907528e+06</td>\n",
       "      <td>2007.0</td>\n",
       "      <td>1900.0</td>\n",
       "      <td>3683.0</td>\n",
       "    </tr>\n",
       "    <tr>\n",
       "      <th>3501</th>\n",
       "      <td>11623</td>\n",
       "      <td>Truck_transporter_bus</td>\n",
       "      <td>Diesel</td>\n",
       "      <td>NaN</td>\n",
       "      <td>NaN</td>\n",
       "      <td>1.894853e+06</td>\n",
       "      <td>2002.0</td>\n",
       "      <td>8925.0</td>\n",
       "      <td>12500.0</td>\n",
       "    </tr>\n",
       "    <tr>\n",
       "      <th>961</th>\n",
       "      <td>37762</td>\n",
       "      <td>Passenger_car</td>\n",
       "      <td>Gasoline</td>\n",
       "      <td>Skoda</td>\n",
       "      <td>NaN</td>\n",
       "      <td>1.785850e+06</td>\n",
       "      <td>2008.0</td>\n",
       "      <td>4450.0</td>\n",
       "      <td>4589.0</td>\n",
       "    </tr>\n",
       "    <tr>\n",
       "      <th>8711</th>\n",
       "      <td>86706</td>\n",
       "      <td>Passenger_car</td>\n",
       "      <td>Gasoline</td>\n",
       "      <td>Peugeot</td>\n",
       "      <td>PEUGEOT 206</td>\n",
       "      <td>1.539889e+06</td>\n",
       "      <td>2004.0</td>\n",
       "      <td>690.0</td>\n",
       "      <td>848.0</td>\n",
       "    </tr>\n",
       "    <tr>\n",
       "      <th>4341</th>\n",
       "      <td>36673</td>\n",
       "      <td>Truck_transporter_bus</td>\n",
       "      <td>Diesel</td>\n",
       "      <td>NaN</td>\n",
       "      <td>NaN</td>\n",
       "      <td>1.534121e+06</td>\n",
       "      <td>2006.0</td>\n",
       "      <td>17850.0</td>\n",
       "      <td>10157.0</td>\n",
       "    </tr>\n",
       "    <tr>\n",
       "      <th>42531</th>\n",
       "      <td>69061</td>\n",
       "      <td>Truck_transporter_bus</td>\n",
       "      <td>Diesel</td>\n",
       "      <td>Daimler</td>\n",
       "      <td>Other</td>\n",
       "      <td>1.525560e+06</td>\n",
       "      <td>2012.0</td>\n",
       "      <td>10115.0</td>\n",
       "      <td>40000.0</td>\n",
       "    </tr>\n",
       "    <tr>\n",
       "      <th>50751</th>\n",
       "      <td>89616</td>\n",
       "      <td>Truck_transporter_bus</td>\n",
       "      <td>Diesel</td>\n",
       "      <td>Volvo</td>\n",
       "      <td>Other</td>\n",
       "      <td>1.505141e+06</td>\n",
       "      <td>2007.0</td>\n",
       "      <td>11900.0</td>\n",
       "      <td>10698.0</td>\n",
       "    </tr>\n",
       "    <tr>\n",
       "      <th>28601</th>\n",
       "      <td>84980</td>\n",
       "      <td>Truck_transporter_bus</td>\n",
       "      <td>Diesel</td>\n",
       "      <td>NaN</td>\n",
       "      <td>NaN</td>\n",
       "      <td>1.440919e+06</td>\n",
       "      <td>2005.0</td>\n",
       "      <td>0.0</td>\n",
       "      <td>100000.0</td>\n",
       "    </tr>\n",
       "  </tbody>\n",
       "</table>\n",
       "</div>"
      ],
      "text/plain": [
       "          id               car_type fuel_type           make        model  \\\n",
       "26668  55338          Passenger_car   unknown            NaN          NaN   \n",
       "14416  57981                  Other   unknown            NaN          NaN   \n",
       "55845  24085                  Other   unknown            NaN          NaN   \n",
       "7848   34223                  Other   unknown            NaN          NaN   \n",
       "5152   83757                  Other   unknown            NaN          NaN   \n",
       "17632  54168                  Other   unknown            NaN          NaN   \n",
       "21577  43986                  Other   unknown            NaN          NaN   \n",
       "46469  17445                  Other   unknown            NaN          NaN   \n",
       "48721  22059                  Other       NaN            NaN          NaN   \n",
       "18330   7258          Passenger_car  Gasoline           Opel        corsa   \n",
       "1969   55716          Passenger_car   unknown            NaN          NaN   \n",
       "15963  35933                  Other   unknown            NaN          NaN   \n",
       "26240  46851                  Other   unknown            NaN          NaN   \n",
       "56714  37884                  Other   unknown            NaN          NaN   \n",
       "62738  54181                  Other   unknown            NaN          NaN   \n",
       "57825  61785  Truck_transporter_bus    Diesel  Mercedes-Benz     Sprinter   \n",
       "33022  84265          Passenger_car    Diesel       MERCEDES        E 200   \n",
       "63694  29530          Passenger_car  Gasoline     Volkswagen         golf   \n",
       "5928   74054          Passenger_car  Gasoline          Honda        Civic   \n",
       "60142  80945          Passenger_car  Gasoline           Opel        Corsa   \n",
       "10056  72777          Passenger_car  Gasoline        Renault         Clio   \n",
       "57865  66938          Passenger_car  Gasoline         Toyota      Corolla   \n",
       "41317  88416          Passenger_car  Gasoline        Hyundai         Getz   \n",
       "3501   11623  Truck_transporter_bus    Diesel            NaN          NaN   \n",
       "961    37762          Passenger_car  Gasoline          Skoda          NaN   \n",
       "8711   86706          Passenger_car  Gasoline        Peugeot  PEUGEOT 206   \n",
       "4341   36673  Truck_transporter_bus    Diesel            NaN          NaN   \n",
       "42531  69061  Truck_transporter_bus    Diesel        Daimler        Other   \n",
       "50751  89616  Truck_transporter_bus    Diesel          Volvo        Other   \n",
       "28601  84980  Truck_transporter_bus    Diesel            NaN          NaN   \n",
       "\n",
       "       odometer_reading  year_of_registration_date      pav  total_repair_cost  \n",
       "26668      1.000000e+15                     2003.0   7500.0            14000.0  \n",
       "14416      1.000000e+14                     2011.0   9460.0             9300.0  \n",
       "55845      1.000000e+12                     2007.0   8270.0             5502.0  \n",
       "7848       1.000000e+11                     2007.0  35700.0            16657.0  \n",
       "5152       1.010101e+10                     2017.0  41650.0            49100.0  \n",
       "17632      1.111111e+09                     2014.0  14000.0            30000.0  \n",
       "21577      1.000000e+09                     2016.0  17600.0             7442.0  \n",
       "46469      1.000000e+08                     2013.0  12971.0            13958.0  \n",
       "48721      1.000000e+08                     1996.0   3750.0             3912.0  \n",
       "18330      9.793945e+07                     2000.0   1900.0             6345.0  \n",
       "1969       1.010101e+07                     1991.0   4800.0             7600.0  \n",
       "15963      9.999999e+06                     2010.0  19040.0            19005.0  \n",
       "26240      9.999999e+06                     2008.0   5200.0             8500.0  \n",
       "56714      9.999999e+06                     2017.0  60095.0            40687.0  \n",
       "62738      9.999996e+06                     1982.0   4879.0             6500.0  \n",
       "57825      4.631645e+06                     2002.0   4500.0             4398.0  \n",
       "33022      3.298263e+06                     2004.0   4650.0             3031.0  \n",
       "63694      2.755335e+06                     1993.0   1500.0            10084.0  \n",
       "5928       2.120212e+06                     1999.0   1500.0             8403.0  \n",
       "60142      2.099934e+06                     2001.0    800.0             1296.0  \n",
       "10056      2.014245e+06                     2003.0   1750.0             3169.0  \n",
       "57865      1.920250e+06                     2001.0      NaN             2227.0  \n",
       "41317      1.907528e+06                     2007.0   1900.0             3683.0  \n",
       "3501       1.894853e+06                     2002.0   8925.0            12500.0  \n",
       "961        1.785850e+06                     2008.0   4450.0             4589.0  \n",
       "8711       1.539889e+06                     2004.0    690.0              848.0  \n",
       "4341       1.534121e+06                     2006.0  17850.0            10157.0  \n",
       "42531      1.525560e+06                     2012.0  10115.0            40000.0  \n",
       "50751      1.505141e+06                     2007.0  11900.0            10698.0  \n",
       "28601      1.440919e+06                     2005.0      0.0           100000.0  "
      ]
     },
     "execution_count": 12,
     "metadata": {},
     "output_type": "execute_result"
    }
   ],
   "source": [
    "data_raw.sort_values('odometer_reading', ascending=False).head(30)"
   ]
  },
  {
   "cell_type": "markdown",
   "metadata": {},
   "source": [
    "# Count of car types"
   ]
  },
  {
   "cell_type": "code",
   "execution_count": 13,
   "metadata": {
    "scrolled": true
   },
   "outputs": [],
   "source": [
    "car_type_counts = data_raw[['car_type']].groupby(['car_type']).apply(pd.Series.count)"
   ]
  },
  {
   "cell_type": "code",
   "execution_count": 14,
   "metadata": {},
   "outputs": [
    {
     "name": "stdout",
     "output_type": "stream",
     "text": [
      "\n"
     ]
    },
    {
     "data": {
      "image/png": "[encoded data removed]",
      "text/plain": [
       "<Figure size 432x288 with 1 Axes>"
      ]
     },
     "metadata": {},
     "output_type": "display_data"
    }
   ],
   "source": [
    "plt.pie(car_type_counts, labels=car_type_counts.index)\n",
    "plt.title('car_type')\n",
    "print('') # print to avoid the output from chart"
   ]
  },
  {
   "cell_type": "code",
   "execution_count": 15,
   "metadata": {},
   "outputs": [
    {
     "data": {
      "text/html": [
       "<div>\n",
       "<style scoped>\n",
       "    .dataframe tbody tr th:only-of-type {\n",
       "        vertical-align: middle;\n",
       "    }\n",
       "\n",
       "    .dataframe tbody tr th {\n",
       "        vertical-align: top;\n",
       "    }\n",
       "\n",
       "    .dataframe thead th {\n",
       "        text-align: right;\n",
       "    }\n",
       "</style>\n",
       "<table border=\"1\" class=\"dataframe\">\n",
       "  <thead>\n",
       "    <tr style=\"text-align: right;\">\n",
       "      <th></th>\n",
       "      <th>car_type</th>\n",
       "      <th>odometer_reading</th>\n",
       "    </tr>\n",
       "  </thead>\n",
       "  <tbody>\n",
       "    <tr>\n",
       "      <th>0</th>\n",
       "      <td>Motorcycle</td>\n",
       "      <td>15897.0</td>\n",
       "    </tr>\n",
       "    <tr>\n",
       "      <th>1</th>\n",
       "      <td>Other</td>\n",
       "      <td>93314.5</td>\n",
       "    </tr>\n",
       "    <tr>\n",
       "      <th>2</th>\n",
       "      <td>Passenger_car</td>\n",
       "      <td>127314.0</td>\n",
       "    </tr>\n",
       "    <tr>\n",
       "      <th>3</th>\n",
       "      <td>Trailer_semitrailer</td>\n",
       "      <td>0.0</td>\n",
       "    </tr>\n",
       "    <tr>\n",
       "      <th>4</th>\n",
       "      <td>Truck_transporter_bus</td>\n",
       "      <td>161893.0</td>\n",
       "    </tr>\n",
       "  </tbody>\n",
       "</table>\n",
       "</div>"
      ],
      "text/plain": [
       "                car_type  odometer_reading\n",
       "0             Motorcycle           15897.0\n",
       "1                  Other           93314.5\n",
       "2          Passenger_car          127314.0\n",
       "3    Trailer_semitrailer               0.0\n",
       "4  Truck_transporter_bus          161893.0"
      ]
     },
     "execution_count": 15,
     "metadata": {},
     "output_type": "execute_result"
    }
   ],
   "source": [
    "median_odometer_by_car_type = data_raw[['odometer_reading', 'car_type']].groupby(['car_type']).median().reset_index()\n",
    "median_odometer_by_car_type"
   ]
  },
  {
   "cell_type": "code",
   "execution_count": 16,
   "metadata": {},
   "outputs": [
    {
     "data": {
      "text/plain": [
       "Text(0.5, 1.0, 'Odometer Reading by Car Type')"
      ]
     },
     "execution_count": 16,
     "metadata": {},
     "output_type": "execute_result"
    },
    {
     "data": {
      "image/png": "[encoded data removed]",
      "text/plain": [
       "<Figure size 432x288 with 1 Axes>"
      ]
     },
     "metadata": {
      "needs_background": "light"
     },
     "output_type": "display_data"
    }
   ],
   "source": [
    "sns.barplot(x='odometer_reading', y='car_type', data=median_odometer_by_car_type) \\\n",
    "    .set_title('Odometer Reading by Car Type')"
   ]
  },
  {
   "cell_type": "markdown",
   "metadata": {},
   "source": [
    "# Missing Values"
   ]
  },
  {
   "cell_type": "code",
   "execution_count": 17,
   "metadata": {},
   "outputs": [
    {
     "data": {
      "text/plain": [
       "id                               0\n",
       "car_type                         0\n",
       "fuel_type                     1199\n",
       "make                          2623\n",
       "model                        25784\n",
       "odometer_reading               981\n",
       "year_of_registration_date      226\n",
       "pav                           5287\n",
       "total_repair_cost             1882\n",
       "dtype: int64"
      ]
     },
     "execution_count": 17,
     "metadata": {},
     "output_type": "execute_result"
    }
   ],
   "source": [
    "data_raw.isnull().sum()"
   ]
  },
  {
   "cell_type": "code",
   "execution_count": 18,
   "metadata": {},
   "outputs": [
    {
     "name": "stdout",
     "output_type": "stream",
     "text": [
      "all models are null when make is null\n"
     ]
    }
   ],
   "source": [
    "null_make = data_raw[data_raw['make'].isnull()]\n",
    "model_when_null_make = null_make[null_make['model'].notnull()]\n",
    "print('all models are null when make is null')"
   ]
  },
  {
   "cell_type": "markdown",
   "metadata": {},
   "source": [
    "# Clean Data"
   ]
  },
  {
   "cell_type": "code",
   "execution_count": 35,
   "metadata": {},
   "outputs": [],
   "source": [
    "data = data_raw.copy()"
   ]
  },
  {
   "cell_type": "markdown",
   "metadata": {},
   "source": [
    "## Cleanup outliers on odometer"
   ]
  },
  {
   "cell_type": "code",
   "execution_count": 36,
   "metadata": {},
   "outputs": [
    {
     "data": {
      "text/plain": [
       "9"
      ]
     },
     "execution_count": 36,
     "metadata": {},
     "output_type": "execute_result"
    }
   ],
   "source": [
    "odometer_readings_greater_than_one_hundred_thousand = data_raw[data_raw['odometer_reading'] >= (100000000-1)]\n",
    "len(odometer_readings_greater_than_one_hundred_thousand)"
   ]
  },
  {
   "cell_type": "code",
   "execution_count": 37,
   "metadata": {},
   "outputs": [
    {
     "data": {
      "text/html": [
       "<div>\n",
       "<style scoped>\n",
       "    .dataframe tbody tr th:only-of-type {\n",
       "        vertical-align: middle;\n",
       "    }\n",
       "\n",
       "    .dataframe tbody tr th {\n",
       "        vertical-align: top;\n",
       "    }\n",
       "\n",
       "    .dataframe thead th {\n",
       "        text-align: right;\n",
       "    }\n",
       "</style>\n",
       "<table border=\"1\" class=\"dataframe\">\n",
       "  <thead>\n",
       "    <tr style=\"text-align: right;\">\n",
       "      <th></th>\n",
       "      <th>car_type</th>\n",
       "      <th>odometer_reading</th>\n",
       "    </tr>\n",
       "  </thead>\n",
       "  <tbody>\n",
       "    <tr>\n",
       "      <th>0</th>\n",
       "      <td>Motorcycle</td>\n",
       "      <td>15897.0</td>\n",
       "    </tr>\n",
       "    <tr>\n",
       "      <th>1</th>\n",
       "      <td>Other</td>\n",
       "      <td>93314.5</td>\n",
       "    </tr>\n",
       "    <tr>\n",
       "      <th>2</th>\n",
       "      <td>Passenger_car</td>\n",
       "      <td>127314.0</td>\n",
       "    </tr>\n",
       "    <tr>\n",
       "      <th>3</th>\n",
       "      <td>Trailer_semitrailer</td>\n",
       "      <td>0.0</td>\n",
       "    </tr>\n",
       "    <tr>\n",
       "      <th>4</th>\n",
       "      <td>Truck_transporter_bus</td>\n",
       "      <td>161893.0</td>\n",
       "    </tr>\n",
       "  </tbody>\n",
       "</table>\n",
       "</div>"
      ],
      "text/plain": [
       "                car_type  odometer_reading\n",
       "0             Motorcycle           15897.0\n",
       "1                  Other           93314.5\n",
       "2          Passenger_car          127314.0\n",
       "3    Trailer_semitrailer               0.0\n",
       "4  Truck_transporter_bus          161893.0"
      ]
     },
     "execution_count": 37,
     "metadata": {},
     "output_type": "execute_result"
    }
   ],
   "source": [
    "median_odometer_by_car_type"
   ]
  },
  {
   "cell_type": "markdown",
   "metadata": {},
   "source": [
    "### Drop Odomoter outliers (greater than one hundred thousand)"
   ]
  },
  {
   "cell_type": "code",
   "execution_count": 38,
   "metadata": {},
   "outputs": [
    {
     "data": {
      "text/plain": [
       "(64172, 9)"
      ]
     },
     "execution_count": 38,
     "metadata": {},
     "output_type": "execute_result"
    }
   ],
   "source": [
    "data = data.drop(odometer_readings_greater_than_one_hundred_thousand.index)\n",
    "data.shape"
   ]
  },
  {
   "cell_type": "markdown",
   "metadata": {},
   "source": [
    "### Impute other Odometer outliers (greater than one million)"
   ]
  },
  {
   "cell_type": "code",
   "execution_count": 39,
   "metadata": {
    "scrolled": true
   },
   "outputs": [
    {
     "data": {
      "text/plain": [
       "73"
      ]
     },
     "execution_count": 39,
     "metadata": {},
     "output_type": "execute_result"
    }
   ],
   "source": [
    "odometer_readings_greater_than_one_million = data[data['odometer_reading'] >= (1000000-1)]\n",
    "len(odometer_readings_greater_than_one_million)"
   ]
  },
  {
   "cell_type": "code",
   "execution_count": 40,
   "metadata": {},
   "outputs": [
    {
     "data": {
      "text/plain": [
       "548"
      ]
     },
     "execution_count": 40,
     "metadata": {},
     "output_type": "execute_result"
    }
   ],
   "source": [
    "odometer_readings_at_zero = data[data.odometer_reading == 0]\n",
    "len(odometer_readings_at_zero)"
   ]
  },
  {
   "cell_type": "code",
   "execution_count": 41,
   "metadata": {},
   "outputs": [
    {
     "data": {
      "text/plain": [
       "981"
      ]
     },
     "execution_count": 41,
     "metadata": {},
     "output_type": "execute_result"
    }
   ],
   "source": [
    "odometer_readings_at_null = data[data.odometer_reading.isnull()]\n",
    "len(odometer_readings_at_null)"
   ]
  },
  {
   "cell_type": "code",
   "execution_count": 42,
   "metadata": {},
   "outputs": [
    {
     "name": "stdout",
     "output_type": "stream",
     "text": [
      "1602\n"
     ]
    }
   ],
   "source": [
    "weird_odometers = pd.concat([\n",
    "    odometer_readings_at_zero,\n",
    "    odometer_readings_greater_than_one_million,\n",
    "    odometer_readings_at_null,\n",
    "])\n",
    "print(len(weird_odometers))"
   ]
  },
  {
   "cell_type": "code",
   "execution_count": 43,
   "metadata": {
    "scrolled": true
   },
   "outputs": [
    {
     "name": "stderr",
     "output_type": "stream",
     "text": [
      "/Users/kjprice/anaconda3/envs/python3.6/lib/python3.6/site-packages/ipykernel_launcher.py:7: FutureWarning: set_value is deprecated and will be removed in a future release. Please use .at[] or .iat[] accessors instead\n",
      "  import sys\n"
     ]
    }
   ],
   "source": [
    "# TODO: right now we are imputing based on car_type, we can go deeper and look at make and/or model too\n",
    "for i in weird_odometers.index:\n",
    "    car = weird_odometers.loc[i]\n",
    "    median_value = median_odometer_by_car_type \\\n",
    "        [median_odometer_by_car_type['car_type'] == car.car_type].odometer_reading\n",
    "    #car.odometer_reading = median_value.values[0]\n",
    "    data.set_value(i, 'odometer_reading', median_value)"
   ]
  },
  {
   "cell_type": "code",
   "execution_count": 45,
   "metadata": {},
   "outputs": [
    {
     "data": {
      "text/plain": [
       "0"
      ]
     },
     "execution_count": 45,
     "metadata": {},
     "output_type": "execute_result"
    }
   ],
   "source": [
    "# We should now have no massive odometer readings\n",
    "len(data[data['odometer_reading'] >= (1000000-1)])"
   ]
  },
  {
   "cell_type": "code",
   "execution_count": 46,
   "metadata": {},
   "outputs": [
    {
     "data": {
      "text/html": [
       "<div>\n",
       "<style scoped>\n",
       "    .dataframe tbody tr th:only-of-type {\n",
       "        vertical-align: middle;\n",
       "    }\n",
       "\n",
       "    .dataframe tbody tr th {\n",
       "        vertical-align: top;\n",
       "    }\n",
       "\n",
       "    .dataframe thead th {\n",
       "        text-align: right;\n",
       "    }\n",
       "</style>\n",
       "<table border=\"1\" class=\"dataframe\">\n",
       "  <thead>\n",
       "    <tr style=\"text-align: right;\">\n",
       "      <th></th>\n",
       "      <th>id</th>\n",
       "      <th>car_type</th>\n",
       "      <th>fuel_type</th>\n",
       "      <th>make</th>\n",
       "      <th>model</th>\n",
       "      <th>odometer_reading</th>\n",
       "      <th>year_of_registration_date</th>\n",
       "      <th>pav</th>\n",
       "      <th>total_repair_cost</th>\n",
       "    </tr>\n",
       "  </thead>\n",
       "  <tbody>\n",
       "    <tr>\n",
       "      <th>5686</th>\n",
       "      <td>59054</td>\n",
       "      <td>Trailer_semitrailer</td>\n",
       "      <td>unknown</td>\n",
       "      <td>NaN</td>\n",
       "      <td>NaN</td>\n",
       "      <td>659389.0</td>\n",
       "      <td>2013.0</td>\n",
       "      <td>31892.0</td>\n",
       "      <td>20047.0</td>\n",
       "    </tr>\n",
       "    <tr>\n",
       "      <th>15278</th>\n",
       "      <td>19909</td>\n",
       "      <td>Trailer_semitrailer</td>\n",
       "      <td>unknown</td>\n",
       "      <td>NaN</td>\n",
       "      <td>NaN</td>\n",
       "      <td>157181.0</td>\n",
       "      <td>2016.0</td>\n",
       "      <td>23800.0</td>\n",
       "      <td>19412.0</td>\n",
       "    </tr>\n",
       "    <tr>\n",
       "      <th>21803</th>\n",
       "      <td>57928</td>\n",
       "      <td>Trailer_semitrailer</td>\n",
       "      <td>unknown</td>\n",
       "      <td>NaN</td>\n",
       "      <td>NaN</td>\n",
       "      <td>55555.0</td>\n",
       "      <td>2011.0</td>\n",
       "      <td>0.0</td>\n",
       "      <td>33333.0</td>\n",
       "    </tr>\n",
       "    <tr>\n",
       "      <th>21942</th>\n",
       "      <td>63997</td>\n",
       "      <td>Trailer_semitrailer</td>\n",
       "      <td>Gasoline</td>\n",
       "      <td>Daf</td>\n",
       "      <td>Other</td>\n",
       "      <td>238187.0</td>\n",
       "      <td>2017.0</td>\n",
       "      <td>77350.0</td>\n",
       "      <td>96674.0</td>\n",
       "    </tr>\n",
       "    <tr>\n",
       "      <th>22381</th>\n",
       "      <td>54796</td>\n",
       "      <td>Trailer_semitrailer</td>\n",
       "      <td>unknown</td>\n",
       "      <td>NaN</td>\n",
       "      <td>NaN</td>\n",
       "      <td>301114.0</td>\n",
       "      <td>2015.0</td>\n",
       "      <td>74970.0</td>\n",
       "      <td>41957.0</td>\n",
       "    </tr>\n",
       "    <tr>\n",
       "      <th>28318</th>\n",
       "      <td>49929</td>\n",
       "      <td>Trailer_semitrailer</td>\n",
       "      <td>unknown</td>\n",
       "      <td>NaN</td>\n",
       "      <td>NaN</td>\n",
       "      <td>1000.0</td>\n",
       "      <td>2016.0</td>\n",
       "      <td>750.0</td>\n",
       "      <td>2120.0</td>\n",
       "    </tr>\n",
       "    <tr>\n",
       "      <th>35589</th>\n",
       "      <td>61086</td>\n",
       "      <td>Trailer_semitrailer</td>\n",
       "      <td>unknown</td>\n",
       "      <td>Other</td>\n",
       "      <td>Other</td>\n",
       "      <td>796.0</td>\n",
       "      <td>2009.0</td>\n",
       "      <td>9300.0</td>\n",
       "      <td>8734.0</td>\n",
       "    </tr>\n",
       "    <tr>\n",
       "      <th>48665</th>\n",
       "      <td>34231</td>\n",
       "      <td>Trailer_semitrailer</td>\n",
       "      <td>unknown</td>\n",
       "      <td>NaN</td>\n",
       "      <td>NaN</td>\n",
       "      <td>2500.0</td>\n",
       "      <td>2009.0</td>\n",
       "      <td>450.0</td>\n",
       "      <td>368.0</td>\n",
       "    </tr>\n",
       "  </tbody>\n",
       "</table>\n",
       "</div>"
      ],
      "text/plain": [
       "          id             car_type fuel_type   make  model  odometer_reading  \\\n",
       "5686   59054  Trailer_semitrailer   unknown    NaN    NaN          659389.0   \n",
       "15278  19909  Trailer_semitrailer   unknown    NaN    NaN          157181.0   \n",
       "21803  57928  Trailer_semitrailer   unknown    NaN    NaN           55555.0   \n",
       "21942  63997  Trailer_semitrailer  Gasoline    Daf  Other          238187.0   \n",
       "22381  54796  Trailer_semitrailer   unknown    NaN    NaN          301114.0   \n",
       "28318  49929  Trailer_semitrailer   unknown    NaN    NaN            1000.0   \n",
       "35589  61086  Trailer_semitrailer   unknown  Other  Other             796.0   \n",
       "48665  34231  Trailer_semitrailer   unknown    NaN    NaN            2500.0   \n",
       "\n",
       "       year_of_registration_date      pav  total_repair_cost  \n",
       "5686                      2013.0  31892.0            20047.0  \n",
       "15278                     2016.0  23800.0            19412.0  \n",
       "21803                     2011.0      0.0            33333.0  \n",
       "21942                     2017.0  77350.0            96674.0  \n",
       "22381                     2015.0  74970.0            41957.0  \n",
       "28318                     2016.0    750.0             2120.0  \n",
       "35589                     2009.0   9300.0             8734.0  \n",
       "48665                     2009.0    450.0              368.0  "
      ]
     },
     "execution_count": 46,
     "metadata": {},
     "output_type": "execute_result"
    }
   ],
   "source": [
    "# Trailers that actually have an odometer reading (pretty weird)\n",
    "data.query(\"odometer_reading != 0 and car_type == 'Trailer_semitrailer'\")"
   ]
  }
 ],
 "metadata": {
  "kernelspec": {
   "display_name": "Python 3",
   "language": "python",
   "name": "python3"
  },
  "language_info": {
   "codemirror_mode": {
    "name": "ipython",
    "version": 3
   },
   "file_extension": ".py",
   "mimetype": "text/x-python",
   "name": "python",
   "nbconvert_exporter": "python",
   "pygments_lexer": "ipython3",
   "version": "3.6.8"
  }
 },
 "nbformat": 4,
 "nbformat_minor": 2
}
